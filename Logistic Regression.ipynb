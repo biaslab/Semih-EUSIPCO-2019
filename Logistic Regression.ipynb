{
 "cells": [
  {
   "cell_type": "code",
   "execution_count": 1,
   "metadata": {},
   "outputs": [],
   "source": [
    "using Distributions, ForwardDiff, Plots, LinearAlgebra, Images"
   ]
  },
  {
   "cell_type": "markdown",
   "metadata": {},
   "source": [
    "# Model Specification"
   ]
  },
  {
   "cell_type": "code",
   "execution_count": 2,
   "metadata": {},
   "outputs": [
    {
     "data": {
      "image/png": "[encoded data removed]",
      "text/plain": [
       "554×582 Array{RGBA{N0f8},2} with eltype RGBA{Normed{UInt8,8}}:\n",
       " RGBA{N0f8}(1.0,1.0,1.0,1.0)  …  RGBA{N0f8}(1.0,1.0,1.0,1.0)\n",
       " RGBA{N0f8}(1.0,1.0,1.0,1.0)     RGBA{N0f8}(1.0,1.0,1.0,1.0)\n",
       " RGBA{N0f8}(1.0,1.0,1.0,1.0)     RGBA{N0f8}(1.0,1.0,1.0,1.0)\n",
       " RGBA{N0f8}(1.0,1.0,1.0,1.0)     RGBA{N0f8}(1.0,1.0,1.0,1.0)\n",
       " RGBA{N0f8}(1.0,1.0,1.0,1.0)     RGBA{N0f8}(1.0,1.0,1.0,1.0)\n",
       " RGBA{N0f8}(1.0,1.0,1.0,1.0)  …  RGBA{N0f8}(1.0,1.0,1.0,1.0)\n",
       " RGBA{N0f8}(1.0,1.0,1.0,1.0)     RGBA{N0f8}(1.0,1.0,1.0,1.0)\n",
       " RGBA{N0f8}(1.0,1.0,1.0,1.0)     RGBA{N0f8}(1.0,1.0,1.0,1.0)\n",
       " RGBA{N0f8}(1.0,1.0,1.0,1.0)     RGBA{N0f8}(1.0,1.0,1.0,1.0)\n",
       " RGBA{N0f8}(1.0,1.0,1.0,1.0)     RGBA{N0f8}(1.0,1.0,1.0,1.0)\n",
       " RGBA{N0f8}(1.0,1.0,1.0,1.0)  …  RGBA{N0f8}(1.0,1.0,1.0,1.0)\n",
       " RGBA{N0f8}(1.0,1.0,1.0,1.0)     RGBA{N0f8}(1.0,1.0,1.0,1.0)\n",
       " RGBA{N0f8}(1.0,1.0,1.0,1.0)     RGBA{N0f8}(1.0,1.0,1.0,1.0)\n",
       " ⋮                            ⋱                             \n",
       " RGBA{N0f8}(1.0,1.0,1.0,1.0)     RGBA{N0f8}(1.0,1.0,1.0,1.0)\n",
       " RGBA{N0f8}(1.0,1.0,1.0,1.0)     RGBA{N0f8}(1.0,1.0,1.0,1.0)\n",
       " RGBA{N0f8}(1.0,1.0,1.0,1.0)     RGBA{N0f8}(1.0,1.0,1.0,1.0)\n",
       " RGBA{N0f8}(1.0,1.0,1.0,1.0)  …  RGBA{N0f8}(1.0,1.0,1.0,1.0)\n",
       " RGBA{N0f8}(1.0,1.0,1.0,1.0)     RGBA{N0f8}(1.0,1.0,1.0,1.0)\n",
       " RGBA{N0f8}(1.0,1.0,1.0,1.0)     RGBA{N0f8}(1.0,1.0,1.0,1.0)\n",
       " RGBA{N0f8}(1.0,1.0,1.0,1.0)     RGBA{N0f8}(1.0,1.0,1.0,1.0)\n",
       " RGBA{N0f8}(1.0,1.0,1.0,1.0)     RGBA{N0f8}(1.0,1.0,1.0,1.0)\n",
       " RGBA{N0f8}(1.0,1.0,1.0,1.0)  …  RGBA{N0f8}(1.0,1.0,1.0,1.0)\n",
       " RGBA{N0f8}(1.0,1.0,1.0,1.0)     RGBA{N0f8}(1.0,1.0,1.0,1.0)\n",
       " RGBA{N0f8}(1.0,1.0,1.0,1.0)     RGBA{N0f8}(1.0,1.0,1.0,1.0)\n",
       " RGBA{N0f8}(1.0,1.0,1.0,1.0)     RGBA{N0f8}(1.0,1.0,1.0,1.0)"
      ]
     },
     "execution_count": 2,
     "metadata": {},
     "output_type": "execute_result"
    }
   ],
   "source": [
    "img = load(\"BLR.png\")"
   ]
  },
  {
   "cell_type": "markdown",
   "metadata": {},
   "source": [
    "$$\n",
    "\\begin{align*}\n",
    "    f_A(w) &= \\mathcal{N}(w;\\mu_0,\\sigma_0^{2}) \\\\\n",
    "    f_B(y,x,w) &= \\mathcal{BE}(y;\\sigma(w^{T}x))\n",
    "\\end{align*}\n",
    "$$"
   ]
  },
  {
   "cell_type": "markdown",
   "metadata": {},
   "source": [
    "## Incoming messages"
   ]
  },
  {
   "cell_type": "markdown",
   "metadata": {},
   "source": [
    "We apply online inference. For each data point, approximated posterior of $w$ becomes the prior for the next data point."
   ]
  },
  {
   "cell_type": "markdown",
   "metadata": {},
   "source": [
    "$$\n",
    "\\begin{align*}\n",
    "    m_1(w) &= \\frac{1}{\\sqrt{2\\pi}\\sigma_0}\\exp\\left( -\\frac{(w-\\mu_0)^{2}}{2\\sigma_0^{2}} \\right) \\\\\n",
    "    m_2(w) &= \\sigma(w^{T}\\hat{x})^{\\hat{y}} (1 - \\sigma(w^{T}\\hat{x}))^{(1-\\hat{y})}\n",
    "\\end{align*}\n",
    "$$"
   ]
  },
  {
   "cell_type": "markdown",
   "metadata": {},
   "source": [
    "# Synthetic Data"
   ]
  },
  {
   "cell_type": "code",
   "execution_count": 5,
   "metadata": {},
   "outputs": [],
   "source": [
    "# Generate data\n",
    "N = 100 #Number of data points\n",
    "w_real = [4.5; -3.5]\n",
    "x_dict = Dict()\n",
    "y_dict = Dict()\n",
    "for i=1:N\n",
    "    x_i = rand(MvNormal([0.; 0.], [3.  0.0; 0.0 2.]))\n",
    "    get!(x_dict, i, x_i)\n",
    "    z_i = transpose(w_real)*x_i\n",
    "    p_i = 1.0/(1.0 + exp(-1*z_i))\n",
    "    y_i = 1.0*rand(Bernoulli(p_i))\n",
    "    #y_i = round(p_i)\n",
    "    get!(y_dict, i, y_i)\n",
    "end"
   ]
  },
  {
   "cell_type": "code",
   "execution_count": 6,
   "metadata": {},
   "outputs": [
    {
     "data": {
      "image/svg+xml": [
       "<?xml version=\"1.0\" encoding=\"utf-8\"?>\n",
       "<svg xmlns=\"http://www.w3.org/2000/svg\" xmlns:xlink=\"http://www.w3.org/1999/xlink\" width=\"600\" height=\"400\" viewBox=\"0 0 2400 1600\">\n",
       "<defs>\n",
       "  <clipPath id=\"clip8500\">\n",
       "    <rect x=\"0\" y=\"0\" width=\"2000\" height=\"2000\"/>\n",
       "  </clipPath>\n",
       "</defs>\n",
       "<defs>\n",
       "  <clipPath id=\"clip8501\">\n",
       "    <rect x=\"0\" y=\"0\" width=\"2400\" height=\"1600\"/>\n",
       "  </clipPath>\n",
       "</defs>\n",
       "<polygon clip-path=\"url(#clip8501)\" points=\"\n",
       "0,1600 2400,1600 2400,0 0,0 \n",
       "  \" fill=\"#ffffff\" fill-rule=\"evenodd\" fill-opacity=\"1\"/>\n",
       "<defs>\n",
       "  <clipPath id=\"clip8502\">\n",
       "    <rect x=\"480\" y=\"0\" width=\"1681\" height=\"1600\"/>\n",
       "  </clipPath>\n",
       "</defs>\n",
       "<polygon clip-path=\"url(#clip8501)\" points=\"\n",
       "149.361,1503.47 2321.26,1503.47 2321.26,47.2441 149.361,47.2441 \n",
       "  \" fill=\"#ffffff\" fill-rule=\"evenodd\" fill-opacity=\"1\"/>\n",
       "<defs>\n",
       "  <clipPath id=\"clip8503\">\n",
       "    <rect x=\"149\" y=\"47\" width=\"2173\" height=\"1457\"/>\n",
       "  </clipPath>\n",
       "</defs>\n",
       "<polyline clip-path=\"url(#clip8503)\" style=\"stroke:#000000; stroke-width:2; stroke-opacity:0.1; fill:none\" points=\"\n",
       "  436.786,1503.47 436.786,47.2441 \n",
       "  \"/>\n",
       "<polyline clip-path=\"url(#clip8503)\" style=\"stroke:#000000; stroke-width:2; stroke-opacity:0.1; fill:none\" points=\"\n",
       "  844.592,1503.47 844.592,47.2441 \n",
       "  \"/>\n",
       "<polyline clip-path=\"url(#clip8503)\" style=\"stroke:#000000; stroke-width:2; stroke-opacity:0.1; fill:none\" points=\"\n",
       "  1252.4,1503.47 1252.4,47.2441 \n",
       "  \"/>\n",
       "<polyline clip-path=\"url(#clip8503)\" style=\"stroke:#000000; stroke-width:2; stroke-opacity:0.1; fill:none\" points=\"\n",
       "  1660.2,1503.47 1660.2,47.2441 \n",
       "  \"/>\n",
       "<polyline clip-path=\"url(#clip8503)\" style=\"stroke:#000000; stroke-width:2; stroke-opacity:0.1; fill:none\" points=\"\n",
       "  2068.01,1503.47 2068.01,47.2441 \n",
       "  \"/>\n",
       "<polyline clip-path=\"url(#clip8503)\" style=\"stroke:#000000; stroke-width:2; stroke-opacity:0.1; fill:none\" points=\"\n",
       "  149.361,1243.66 2321.26,1243.66 \n",
       "  \"/>\n",
       "<polyline clip-path=\"url(#clip8503)\" style=\"stroke:#000000; stroke-width:2; stroke-opacity:0.1; fill:none\" points=\"\n",
       "  149.361,857.906 2321.26,857.906 \n",
       "  \"/>\n",
       "<polyline clip-path=\"url(#clip8503)\" style=\"stroke:#000000; stroke-width:2; stroke-opacity:0.1; fill:none\" points=\"\n",
       "  149.361,472.152 2321.26,472.152 \n",
       "  \"/>\n",
       "<polyline clip-path=\"url(#clip8503)\" style=\"stroke:#000000; stroke-width:2; stroke-opacity:0.1; fill:none\" points=\"\n",
       "  149.361,86.3975 2321.26,86.3975 \n",
       "  \"/>\n",
       "<polyline clip-path=\"url(#clip8501)\" style=\"stroke:#000000; stroke-width:4; stroke-opacity:1; fill:none\" points=\"\n",
       "  149.361,1503.47 2321.26,1503.47 \n",
       "  \"/>\n",
       "<polyline clip-path=\"url(#clip8501)\" style=\"stroke:#000000; stroke-width:4; stroke-opacity:1; fill:none\" points=\"\n",
       "  149.361,1503.47 149.361,47.2441 \n",
       "  \"/>\n",
       "<polyline clip-path=\"url(#clip8501)\" style=\"stroke:#000000; stroke-width:4; stroke-opacity:1; fill:none\" points=\"\n",
       "  436.786,1503.47 436.786,1481.63 \n",
       "  \"/>\n",
       "<polyline clip-path=\"url(#clip8501)\" style=\"stroke:#000000; stroke-width:4; stroke-opacity:1; fill:none\" points=\"\n",
       "  844.592,1503.47 844.592,1481.63 \n",
       "  \"/>\n",
       "<polyline clip-path=\"url(#clip8501)\" style=\"stroke:#000000; stroke-width:4; stroke-opacity:1; fill:none\" points=\"\n",
       "  1252.4,1503.47 1252.4,1481.63 \n",
       "  \"/>\n",
       "<polyline clip-path=\"url(#clip8501)\" style=\"stroke:#000000; stroke-width:4; stroke-opacity:1; fill:none\" points=\"\n",
       "  1660.2,1503.47 1660.2,1481.63 \n",
       "  \"/>\n",
       "<polyline clip-path=\"url(#clip8501)\" style=\"stroke:#000000; stroke-width:4; stroke-opacity:1; fill:none\" points=\"\n",
       "  2068.01,1503.47 2068.01,1481.63 \n",
       "  \"/>\n",
       "<polyline clip-path=\"url(#clip8501)\" style=\"stroke:#000000; stroke-width:4; stroke-opacity:1; fill:none\" points=\"\n",
       "  149.361,1243.66 181.939,1243.66 \n",
       "  \"/>\n",
       "<polyline clip-path=\"url(#clip8501)\" style=\"stroke:#000000; stroke-width:4; stroke-opacity:1; fill:none\" points=\"\n",
       "  149.361,857.906 181.939,857.906 \n",
       "  \"/>\n",
       "<polyline clip-path=\"url(#clip8501)\" style=\"stroke:#000000; stroke-width:4; stroke-opacity:1; fill:none\" points=\"\n",
       "  149.361,472.152 181.939,472.152 \n",
       "  \"/>\n",
       "<polyline clip-path=\"url(#clip8501)\" style=\"stroke:#000000; stroke-width:4; stroke-opacity:1; fill:none\" points=\"\n",
       "  149.361,86.3975 181.939,86.3975 \n",
       "  \"/>\n",
       "<g clip-path=\"url(#clip8501)\">\n",
       "<text style=\"fill:#000000; fill-opacity:1; font-family:Arial,Helvetica Neue,Helvetica,sans-serif; font-size:48px; text-anchor:middle;\" transform=\"rotate(0, 436.786, 1557.47)\" x=\"436.786\" y=\"1557.47\">-4</text>\n",
       "</g>\n",
       "<g clip-path=\"url(#clip8501)\">\n",
       "<text style=\"fill:#000000; fill-opacity:1; font-family:Arial,Helvetica Neue,Helvetica,sans-serif; font-size:48px; text-anchor:middle;\" transform=\"rotate(0, 844.592, 1557.47)\" x=\"844.592\" y=\"1557.47\">-2</text>\n",
       "</g>\n",
       "<g clip-path=\"url(#clip8501)\">\n",
       "<text style=\"fill:#000000; fill-opacity:1; font-family:Arial,Helvetica Neue,Helvetica,sans-serif; font-size:48px; text-anchor:middle;\" transform=\"rotate(0, 1252.4, 1557.47)\" x=\"1252.4\" y=\"1557.47\">0</text>\n",
       "</g>\n",
       "<g clip-path=\"url(#clip8501)\">\n",
       "<text style=\"fill:#000000; fill-opacity:1; font-family:Arial,Helvetica Neue,Helvetica,sans-serif; font-size:48px; text-anchor:middle;\" transform=\"rotate(0, 1660.2, 1557.47)\" x=\"1660.2\" y=\"1557.47\">2</text>\n",
       "</g>\n",
       "<g clip-path=\"url(#clip8501)\">\n",
       "<text style=\"fill:#000000; fill-opacity:1; font-family:Arial,Helvetica Neue,Helvetica,sans-serif; font-size:48px; text-anchor:middle;\" transform=\"rotate(0, 2068.01, 1557.47)\" x=\"2068.01\" y=\"1557.47\">4</text>\n",
       "</g>\n",
       "<g clip-path=\"url(#clip8501)\">\n",
       "<text style=\"fill:#000000; fill-opacity:1; font-family:Arial,Helvetica Neue,Helvetica,sans-serif; font-size:48px; text-anchor:end;\" transform=\"rotate(0, 125.361, 1261.16)\" x=\"125.361\" y=\"1261.16\">-2</text>\n",
       "</g>\n",
       "<g clip-path=\"url(#clip8501)\">\n",
       "<text style=\"fill:#000000; fill-opacity:1; font-family:Arial,Helvetica Neue,Helvetica,sans-serif; font-size:48px; text-anchor:end;\" transform=\"rotate(0, 125.361, 875.406)\" x=\"125.361\" y=\"875.406\">0</text>\n",
       "</g>\n",
       "<g clip-path=\"url(#clip8501)\">\n",
       "<text style=\"fill:#000000; fill-opacity:1; font-family:Arial,Helvetica Neue,Helvetica,sans-serif; font-size:48px; text-anchor:end;\" transform=\"rotate(0, 125.361, 489.652)\" x=\"125.361\" y=\"489.652\">2</text>\n",
       "</g>\n",
       "<g clip-path=\"url(#clip8501)\">\n",
       "<text style=\"fill:#000000; fill-opacity:1; font-family:Arial,Helvetica Neue,Helvetica,sans-serif; font-size:48px; text-anchor:end;\" transform=\"rotate(0, 125.361, 103.898)\" x=\"125.361\" y=\"103.898\">4</text>\n",
       "</g>\n",
       "<circle clip-path=\"url(#clip8503)\" style=\"fill:#000000; stroke:none; fill-opacity:1\" cx=\"1587.98\" cy=\"968.009\" r=\"18\"/>\n",
       "<circle clip-path=\"url(#clip8503)\" style=\"fill:#ff0000; stroke:none; fill-opacity:1\" cx=\"1587.98\" cy=\"968.009\" r=\"14\"/>\n",
       "<circle clip-path=\"url(#clip8503)\" style=\"fill:#000000; stroke:none; fill-opacity:1\" cx=\"210.829\" cy=\"1176.59\" r=\"18\"/>\n",
       "<circle clip-path=\"url(#clip8503)\" style=\"fill:#0000ff; stroke:none; fill-opacity:1\" cx=\"210.829\" cy=\"1176.59\" r=\"14\"/>\n",
       "<circle clip-path=\"url(#clip8503)\" style=\"fill:#000000; stroke:none; fill-opacity:1\" cx=\"1993.69\" cy=\"799.926\" r=\"18\"/>\n",
       "<circle clip-path=\"url(#clip8503)\" style=\"fill:#ff0000; stroke:none; fill-opacity:1\" cx=\"1993.69\" cy=\"799.926\" r=\"14\"/>\n",
       "<circle clip-path=\"url(#clip8503)\" style=\"fill:#000000; stroke:none; fill-opacity:1\" cx=\"1238.27\" cy=\"975.702\" r=\"18\"/>\n",
       "<circle clip-path=\"url(#clip8503)\" style=\"fill:#ff0000; stroke:none; fill-opacity:1\" cx=\"1238.27\" cy=\"975.702\" r=\"14\"/>\n",
       "<circle clip-path=\"url(#clip8503)\" style=\"fill:#000000; stroke:none; fill-opacity:1\" cx=\"1089.26\" cy=\"548.919\" r=\"18\"/>\n",
       "<circle clip-path=\"url(#clip8503)\" style=\"fill:#0000ff; stroke:none; fill-opacity:1\" cx=\"1089.26\" cy=\"548.919\" r=\"14\"/>\n",
       "<circle clip-path=\"url(#clip8503)\" style=\"fill:#000000; stroke:none; fill-opacity:1\" cx=\"636.598\" cy=\"1308.77\" r=\"18\"/>\n",
       "<circle clip-path=\"url(#clip8503)\" style=\"fill:#0000ff; stroke:none; fill-opacity:1\" cx=\"636.598\" cy=\"1308.77\" r=\"14\"/>\n",
       "<circle clip-path=\"url(#clip8503)\" style=\"fill:#000000; stroke:none; fill-opacity:1\" cx=\"1602.16\" cy=\"1074.25\" r=\"18\"/>\n",
       "<circle clip-path=\"url(#clip8503)\" style=\"fill:#ff0000; stroke:none; fill-opacity:1\" cx=\"1602.16\" cy=\"1074.25\" r=\"14\"/>\n",
       "<circle clip-path=\"url(#clip8503)\" style=\"fill:#000000; stroke:none; fill-opacity:1\" cx=\"804.61\" cy=\"577.741\" r=\"18\"/>\n",
       "<circle clip-path=\"url(#clip8503)\" style=\"fill:#0000ff; stroke:none; fill-opacity:1\" cx=\"804.61\" cy=\"577.741\" r=\"14\"/>\n",
       "<circle clip-path=\"url(#clip8503)\" style=\"fill:#000000; stroke:none; fill-opacity:1\" cx=\"1214.83\" cy=\"1397.16\" r=\"18\"/>\n",
       "<circle clip-path=\"url(#clip8503)\" style=\"fill:#ff0000; stroke:none; fill-opacity:1\" cx=\"1214.83\" cy=\"1397.16\" r=\"14\"/>\n",
       "<circle clip-path=\"url(#clip8503)\" style=\"fill:#000000; stroke:none; fill-opacity:1\" cx=\"815\" cy=\"678.278\" r=\"18\"/>\n",
       "<circle clip-path=\"url(#clip8503)\" style=\"fill:#0000ff; stroke:none; fill-opacity:1\" cx=\"815\" cy=\"678.278\" r=\"14\"/>\n",
       "<circle clip-path=\"url(#clip8503)\" style=\"fill:#000000; stroke:none; fill-opacity:1\" cx=\"1510.11\" cy=\"435.985\" r=\"18\"/>\n",
       "<circle clip-path=\"url(#clip8503)\" style=\"fill:#0000ff; stroke:none; fill-opacity:1\" cx=\"1510.11\" cy=\"435.985\" r=\"14\"/>\n",
       "<circle clip-path=\"url(#clip8503)\" style=\"fill:#000000; stroke:none; fill-opacity:1\" cx=\"1489.43\" cy=\"459.05\" r=\"18\"/>\n",
       "<circle clip-path=\"url(#clip8503)\" style=\"fill:#0000ff; stroke:none; fill-opacity:1\" cx=\"1489.43\" cy=\"459.05\" r=\"14\"/>\n",
       "<circle clip-path=\"url(#clip8503)\" style=\"fill:#000000; stroke:none; fill-opacity:1\" cx=\"1258.97\" cy=\"1242.99\" r=\"18\"/>\n",
       "<circle clip-path=\"url(#clip8503)\" style=\"fill:#ff0000; stroke:none; fill-opacity:1\" cx=\"1258.97\" cy=\"1242.99\" r=\"14\"/>\n",
       "<circle clip-path=\"url(#clip8503)\" style=\"fill:#000000; stroke:none; fill-opacity:1\" cx=\"1203.02\" cy=\"676.671\" r=\"18\"/>\n",
       "<circle clip-path=\"url(#clip8503)\" style=\"fill:#0000ff; stroke:none; fill-opacity:1\" cx=\"1203.02\" cy=\"676.671\" r=\"14\"/>\n",
       "<circle clip-path=\"url(#clip8503)\" style=\"fill:#000000; stroke:none; fill-opacity:1\" cx=\"2088.18\" cy=\"1303\" r=\"18\"/>\n",
       "<circle clip-path=\"url(#clip8503)\" style=\"fill:#ff0000; stroke:none; fill-opacity:1\" cx=\"2088.18\" cy=\"1303\" r=\"14\"/>\n",
       "<circle clip-path=\"url(#clip8503)\" style=\"fill:#000000; stroke:none; fill-opacity:1\" cx=\"1138.25\" cy=\"903.006\" r=\"18\"/>\n",
       "<circle clip-path=\"url(#clip8503)\" style=\"fill:#0000ff; stroke:none; fill-opacity:1\" cx=\"1138.25\" cy=\"903.006\" r=\"14\"/>\n",
       "<circle clip-path=\"url(#clip8503)\" style=\"fill:#000000; stroke:none; fill-opacity:1\" cx=\"1080.56\" cy=\"845.916\" r=\"18\"/>\n",
       "<circle clip-path=\"url(#clip8503)\" style=\"fill:#0000ff; stroke:none; fill-opacity:1\" cx=\"1080.56\" cy=\"845.916\" r=\"14\"/>\n",
       "<circle clip-path=\"url(#clip8503)\" style=\"fill:#000000; stroke:none; fill-opacity:1\" cx=\"1810.91\" cy=\"1070.04\" r=\"18\"/>\n",
       "<circle clip-path=\"url(#clip8503)\" style=\"fill:#ff0000; stroke:none; fill-opacity:1\" cx=\"1810.91\" cy=\"1070.04\" r=\"14\"/>\n",
       "<circle clip-path=\"url(#clip8503)\" style=\"fill:#000000; stroke:none; fill-opacity:1\" cx=\"1614.54\" cy=\"861.927\" r=\"18\"/>\n",
       "<circle clip-path=\"url(#clip8503)\" style=\"fill:#ff0000; stroke:none; fill-opacity:1\" cx=\"1614.54\" cy=\"861.927\" r=\"14\"/>\n",
       "<circle clip-path=\"url(#clip8503)\" style=\"fill:#000000; stroke:none; fill-opacity:1\" cx=\"1038.46\" cy=\"767\" r=\"18\"/>\n",
       "<circle clip-path=\"url(#clip8503)\" style=\"fill:#0000ff; stroke:none; fill-opacity:1\" cx=\"1038.46\" cy=\"767\" r=\"14\"/>\n",
       "<circle clip-path=\"url(#clip8503)\" style=\"fill:#000000; stroke:none; fill-opacity:1\" cx=\"1072.04\" cy=\"533.365\" r=\"18\"/>\n",
       "<circle clip-path=\"url(#clip8503)\" style=\"fill:#0000ff; stroke:none; fill-opacity:1\" cx=\"1072.04\" cy=\"533.365\" r=\"14\"/>\n",
       "<circle clip-path=\"url(#clip8503)\" style=\"fill:#000000; stroke:none; fill-opacity:1\" cx=\"1265.06\" cy=\"1026.03\" r=\"18\"/>\n",
       "<circle clip-path=\"url(#clip8503)\" style=\"fill:#ff0000; stroke:none; fill-opacity:1\" cx=\"1265.06\" cy=\"1026.03\" r=\"14\"/>\n",
       "<circle clip-path=\"url(#clip8503)\" style=\"fill:#000000; stroke:none; fill-opacity:1\" cx=\"1150.75\" cy=\"974.206\" r=\"18\"/>\n",
       "<circle clip-path=\"url(#clip8503)\" style=\"fill:#0000ff; stroke:none; fill-opacity:1\" cx=\"1150.75\" cy=\"974.206\" r=\"14\"/>\n",
       "<circle clip-path=\"url(#clip8503)\" style=\"fill:#000000; stroke:none; fill-opacity:1\" cx=\"1197.33\" cy=\"913.389\" r=\"18\"/>\n",
       "<circle clip-path=\"url(#clip8503)\" style=\"fill:#ff0000; stroke:none; fill-opacity:1\" cx=\"1197.33\" cy=\"913.389\" r=\"14\"/>\n",
       "<circle clip-path=\"url(#clip8503)\" style=\"fill:#000000; stroke:none; fill-opacity:1\" cx=\"1823.63\" cy=\"1021.41\" r=\"18\"/>\n",
       "<circle clip-path=\"url(#clip8503)\" style=\"fill:#ff0000; stroke:none; fill-opacity:1\" cx=\"1823.63\" cy=\"1021.41\" r=\"14\"/>\n",
       "<circle clip-path=\"url(#clip8503)\" style=\"fill:#000000; stroke:none; fill-opacity:1\" cx=\"1168.4\" cy=\"1265.92\" r=\"18\"/>\n",
       "<circle clip-path=\"url(#clip8503)\" style=\"fill:#ff0000; stroke:none; fill-opacity:1\" cx=\"1168.4\" cy=\"1265.92\" r=\"14\"/>\n",
       "<circle clip-path=\"url(#clip8503)\" style=\"fill:#000000; stroke:none; fill-opacity:1\" cx=\"1263.52\" cy=\"775.329\" r=\"18\"/>\n",
       "<circle clip-path=\"url(#clip8503)\" style=\"fill:#0000ff; stroke:none; fill-opacity:1\" cx=\"1263.52\" cy=\"775.329\" r=\"14\"/>\n",
       "<circle clip-path=\"url(#clip8503)\" style=\"fill:#000000; stroke:none; fill-opacity:1\" cx=\"881.372\" cy=\"924.586\" r=\"18\"/>\n",
       "<circle clip-path=\"url(#clip8503)\" style=\"fill:#0000ff; stroke:none; fill-opacity:1\" cx=\"881.372\" cy=\"924.586\" r=\"14\"/>\n",
       "<circle clip-path=\"url(#clip8503)\" style=\"fill:#000000; stroke:none; fill-opacity:1\" cx=\"1208.95\" cy=\"1314.58\" r=\"18\"/>\n",
       "<circle clip-path=\"url(#clip8503)\" style=\"fill:#ff0000; stroke:none; fill-opacity:1\" cx=\"1208.95\" cy=\"1314.58\" r=\"14\"/>\n",
       "<circle clip-path=\"url(#clip8503)\" style=\"fill:#000000; stroke:none; fill-opacity:1\" cx=\"746.857\" cy=\"791.451\" r=\"18\"/>\n",
       "<circle clip-path=\"url(#clip8503)\" style=\"fill:#0000ff; stroke:none; fill-opacity:1\" cx=\"746.857\" cy=\"791.451\" r=\"14\"/>\n",
       "<circle clip-path=\"url(#clip8503)\" style=\"fill:#000000; stroke:none; fill-opacity:1\" cx=\"903.904\" cy=\"734.564\" r=\"18\"/>\n",
       "<circle clip-path=\"url(#clip8503)\" style=\"fill:#0000ff; stroke:none; fill-opacity:1\" cx=\"903.904\" cy=\"734.564\" r=\"14\"/>\n",
       "<circle clip-path=\"url(#clip8503)\" style=\"fill:#000000; stroke:none; fill-opacity:1\" cx=\"444.273\" cy=\"718.604\" r=\"18\"/>\n",
       "<circle clip-path=\"url(#clip8503)\" style=\"fill:#0000ff; stroke:none; fill-opacity:1\" cx=\"444.273\" cy=\"718.604\" r=\"14\"/>\n",
       "<circle clip-path=\"url(#clip8503)\" style=\"fill:#000000; stroke:none; fill-opacity:1\" cx=\"1166.29\" cy=\"774.433\" r=\"18\"/>\n",
       "<circle clip-path=\"url(#clip8503)\" style=\"fill:#0000ff; stroke:none; fill-opacity:1\" cx=\"1166.29\" cy=\"774.433\" r=\"14\"/>\n",
       "<circle clip-path=\"url(#clip8503)\" style=\"fill:#000000; stroke:none; fill-opacity:1\" cx=\"1298.61\" cy=\"1462.26\" r=\"18\"/>\n",
       "<circle clip-path=\"url(#clip8503)\" style=\"fill:#ff0000; stroke:none; fill-opacity:1\" cx=\"1298.61\" cy=\"1462.26\" r=\"14\"/>\n",
       "<circle clip-path=\"url(#clip8503)\" style=\"fill:#000000; stroke:none; fill-opacity:1\" cx=\"1270.99\" cy=\"1265.41\" r=\"18\"/>\n",
       "<circle clip-path=\"url(#clip8503)\" style=\"fill:#ff0000; stroke:none; fill-opacity:1\" cx=\"1270.99\" cy=\"1265.41\" r=\"14\"/>\n",
       "<circle clip-path=\"url(#clip8503)\" style=\"fill:#000000; stroke:none; fill-opacity:1\" cx=\"1252.21\" cy=\"544.738\" r=\"18\"/>\n",
       "<circle clip-path=\"url(#clip8503)\" style=\"fill:#0000ff; stroke:none; fill-opacity:1\" cx=\"1252.21\" cy=\"544.738\" r=\"14\"/>\n",
       "<circle clip-path=\"url(#clip8503)\" style=\"fill:#000000; stroke:none; fill-opacity:1\" cx=\"984.03\" cy=\"611.09\" r=\"18\"/>\n",
       "<circle clip-path=\"url(#clip8503)\" style=\"fill:#0000ff; stroke:none; fill-opacity:1\" cx=\"984.03\" cy=\"611.09\" r=\"14\"/>\n",
       "<circle clip-path=\"url(#clip8503)\" style=\"fill:#000000; stroke:none; fill-opacity:1\" cx=\"886.493\" cy=\"797.658\" r=\"18\"/>\n",
       "<circle clip-path=\"url(#clip8503)\" style=\"fill:#0000ff; stroke:none; fill-opacity:1\" cx=\"886.493\" cy=\"797.658\" r=\"14\"/>\n",
       "<circle clip-path=\"url(#clip8503)\" style=\"fill:#000000; stroke:none; fill-opacity:1\" cx=\"1643.02\" cy=\"1181.44\" r=\"18\"/>\n",
       "<circle clip-path=\"url(#clip8503)\" style=\"fill:#ff0000; stroke:none; fill-opacity:1\" cx=\"1643.02\" cy=\"1181.44\" r=\"14\"/>\n",
       "<circle clip-path=\"url(#clip8503)\" style=\"fill:#000000; stroke:none; fill-opacity:1\" cx=\"1800.44\" cy=\"1205.95\" r=\"18\"/>\n",
       "<circle clip-path=\"url(#clip8503)\" style=\"fill:#ff0000; stroke:none; fill-opacity:1\" cx=\"1800.44\" cy=\"1205.95\" r=\"14\"/>\n",
       "<circle clip-path=\"url(#clip8503)\" style=\"fill:#000000; stroke:none; fill-opacity:1\" cx=\"1554.2\" cy=\"465.067\" r=\"18\"/>\n",
       "<circle clip-path=\"url(#clip8503)\" style=\"fill:#0000ff; stroke:none; fill-opacity:1\" cx=\"1554.2\" cy=\"465.067\" r=\"14\"/>\n",
       "<circle clip-path=\"url(#clip8503)\" style=\"fill:#000000; stroke:none; fill-opacity:1\" cx=\"1399.22\" cy=\"624.762\" r=\"18\"/>\n",
       "<circle clip-path=\"url(#clip8503)\" style=\"fill:#0000ff; stroke:none; fill-opacity:1\" cx=\"1399.22\" cy=\"624.762\" r=\"14\"/>\n",
       "<circle clip-path=\"url(#clip8503)\" style=\"fill:#000000; stroke:none; fill-opacity:1\" cx=\"1443.81\" cy=\"551.512\" r=\"18\"/>\n",
       "<circle clip-path=\"url(#clip8503)\" style=\"fill:#ff0000; stroke:none; fill-opacity:1\" cx=\"1443.81\" cy=\"551.512\" r=\"14\"/>\n",
       "<circle clip-path=\"url(#clip8503)\" style=\"fill:#000000; stroke:none; fill-opacity:1\" cx=\"1434.86\" cy=\"592.885\" r=\"18\"/>\n",
       "<circle clip-path=\"url(#clip8503)\" style=\"fill:#ff0000; stroke:none; fill-opacity:1\" cx=\"1434.86\" cy=\"592.885\" r=\"14\"/>\n",
       "<circle clip-path=\"url(#clip8503)\" style=\"fill:#000000; stroke:none; fill-opacity:1\" cx=\"1313.78\" cy=\"1173.12\" r=\"18\"/>\n",
       "<circle clip-path=\"url(#clip8503)\" style=\"fill:#ff0000; stroke:none; fill-opacity:1\" cx=\"1313.78\" cy=\"1173.12\" r=\"14\"/>\n",
       "<circle clip-path=\"url(#clip8503)\" style=\"fill:#000000; stroke:none; fill-opacity:1\" cx=\"1108.57\" cy=\"424.079\" r=\"18\"/>\n",
       "<circle clip-path=\"url(#clip8503)\" style=\"fill:#0000ff; stroke:none; fill-opacity:1\" cx=\"1108.57\" cy=\"424.079\" r=\"14\"/>\n",
       "<circle clip-path=\"url(#clip8503)\" style=\"fill:#000000; stroke:none; fill-opacity:1\" cx=\"1108.53\" cy=\"525.058\" r=\"18\"/>\n",
       "<circle clip-path=\"url(#clip8503)\" style=\"fill:#0000ff; stroke:none; fill-opacity:1\" cx=\"1108.53\" cy=\"525.058\" r=\"14\"/>\n",
       "<circle clip-path=\"url(#clip8503)\" style=\"fill:#000000; stroke:none; fill-opacity:1\" cx=\"1913.2\" cy=\"943.053\" r=\"18\"/>\n",
       "<circle clip-path=\"url(#clip8503)\" style=\"fill:#ff0000; stroke:none; fill-opacity:1\" cx=\"1913.2\" cy=\"943.053\" r=\"14\"/>\n",
       "<circle clip-path=\"url(#clip8503)\" style=\"fill:#000000; stroke:none; fill-opacity:1\" cx=\"1455.87\" cy=\"692.371\" r=\"18\"/>\n",
       "<circle clip-path=\"url(#clip8503)\" style=\"fill:#ff0000; stroke:none; fill-opacity:1\" cx=\"1455.87\" cy=\"692.371\" r=\"14\"/>\n",
       "<circle clip-path=\"url(#clip8503)\" style=\"fill:#000000; stroke:none; fill-opacity:1\" cx=\"1200.96\" cy=\"655.103\" r=\"18\"/>\n",
       "<circle clip-path=\"url(#clip8503)\" style=\"fill:#0000ff; stroke:none; fill-opacity:1\" cx=\"1200.96\" cy=\"655.103\" r=\"14\"/>\n",
       "<circle clip-path=\"url(#clip8503)\" style=\"fill:#000000; stroke:none; fill-opacity:1\" cx=\"872.122\" cy=\"931.183\" r=\"18\"/>\n",
       "<circle clip-path=\"url(#clip8503)\" style=\"fill:#0000ff; stroke:none; fill-opacity:1\" cx=\"872.122\" cy=\"931.183\" r=\"14\"/>\n",
       "<circle clip-path=\"url(#clip8503)\" style=\"fill:#000000; stroke:none; fill-opacity:1\" cx=\"2223.71\" cy=\"344.284\" r=\"18\"/>\n",
       "<circle clip-path=\"url(#clip8503)\" style=\"fill:#ff0000; stroke:none; fill-opacity:1\" cx=\"2223.71\" cy=\"344.284\" r=\"14\"/>\n",
       "<circle clip-path=\"url(#clip8503)\" style=\"fill:#000000; stroke:none; fill-opacity:1\" cx=\"1452.42\" cy=\"1085.93\" r=\"18\"/>\n",
       "<circle clip-path=\"url(#clip8503)\" style=\"fill:#ff0000; stroke:none; fill-opacity:1\" cx=\"1452.42\" cy=\"1085.93\" r=\"14\"/>\n",
       "<circle clip-path=\"url(#clip8503)\" style=\"fill:#000000; stroke:none; fill-opacity:1\" cx=\"1367.27\" cy=\"1192.88\" r=\"18\"/>\n",
       "<circle clip-path=\"url(#clip8503)\" style=\"fill:#ff0000; stroke:none; fill-opacity:1\" cx=\"1367.27\" cy=\"1192.88\" r=\"14\"/>\n",
       "<circle clip-path=\"url(#clip8503)\" style=\"fill:#000000; stroke:none; fill-opacity:1\" cx=\"1615.38\" cy=\"1077.96\" r=\"18\"/>\n",
       "<circle clip-path=\"url(#clip8503)\" style=\"fill:#ff0000; stroke:none; fill-opacity:1\" cx=\"1615.38\" cy=\"1077.96\" r=\"14\"/>\n",
       "<circle clip-path=\"url(#clip8503)\" style=\"fill:#000000; stroke:none; fill-opacity:1\" cx=\"768.707\" cy=\"1016.33\" r=\"18\"/>\n",
       "<circle clip-path=\"url(#clip8503)\" style=\"fill:#0000ff; stroke:none; fill-opacity:1\" cx=\"768.707\" cy=\"1016.33\" r=\"14\"/>\n",
       "<circle clip-path=\"url(#clip8503)\" style=\"fill:#000000; stroke:none; fill-opacity:1\" cx=\"827.858\" cy=\"709.558\" r=\"18\"/>\n",
       "<circle clip-path=\"url(#clip8503)\" style=\"fill:#0000ff; stroke:none; fill-opacity:1\" cx=\"827.858\" cy=\"709.558\" r=\"14\"/>\n",
       "<circle clip-path=\"url(#clip8503)\" style=\"fill:#000000; stroke:none; fill-opacity:1\" cx=\"660.523\" cy=\"316.615\" r=\"18\"/>\n",
       "<circle clip-path=\"url(#clip8503)\" style=\"fill:#0000ff; stroke:none; fill-opacity:1\" cx=\"660.523\" cy=\"316.615\" r=\"14\"/>\n",
       "<circle clip-path=\"url(#clip8503)\" style=\"fill:#000000; stroke:none; fill-opacity:1\" cx=\"1302.84\" cy=\"1219.32\" r=\"18\"/>\n",
       "<circle clip-path=\"url(#clip8503)\" style=\"fill:#ff0000; stroke:none; fill-opacity:1\" cx=\"1302.84\" cy=\"1219.32\" r=\"14\"/>\n",
       "<circle clip-path=\"url(#clip8503)\" style=\"fill:#000000; stroke:none; fill-opacity:1\" cx=\"1508.41\" cy=\"1173.43\" r=\"18\"/>\n",
       "<circle clip-path=\"url(#clip8503)\" style=\"fill:#ff0000; stroke:none; fill-opacity:1\" cx=\"1508.41\" cy=\"1173.43\" r=\"14\"/>\n",
       "<circle clip-path=\"url(#clip8503)\" style=\"fill:#000000; stroke:none; fill-opacity:1\" cx=\"1170.74\" cy=\"543.306\" r=\"18\"/>\n",
       "<circle clip-path=\"url(#clip8503)\" style=\"fill:#0000ff; stroke:none; fill-opacity:1\" cx=\"1170.74\" cy=\"543.306\" r=\"14\"/>\n",
       "<circle clip-path=\"url(#clip8503)\" style=\"fill:#000000; stroke:none; fill-opacity:1\" cx=\"1540.54\" cy=\"1261.64\" r=\"18\"/>\n",
       "<circle clip-path=\"url(#clip8503)\" style=\"fill:#ff0000; stroke:none; fill-opacity:1\" cx=\"1540.54\" cy=\"1261.64\" r=\"14\"/>\n",
       "<circle clip-path=\"url(#clip8503)\" style=\"fill:#000000; stroke:none; fill-opacity:1\" cx=\"1013.65\" cy=\"764.8\" r=\"18\"/>\n",
       "<circle clip-path=\"url(#clip8503)\" style=\"fill:#0000ff; stroke:none; fill-opacity:1\" cx=\"1013.65\" cy=\"764.8\" r=\"14\"/>\n",
       "<circle clip-path=\"url(#clip8503)\" style=\"fill:#000000; stroke:none; fill-opacity:1\" cx=\"1297.27\" cy=\"763.565\" r=\"18\"/>\n",
       "<circle clip-path=\"url(#clip8503)\" style=\"fill:#0000ff; stroke:none; fill-opacity:1\" cx=\"1297.27\" cy=\"763.565\" r=\"14\"/>\n",
       "<circle clip-path=\"url(#clip8503)\" style=\"fill:#000000; stroke:none; fill-opacity:1\" cx=\"667.588\" cy=\"903.87\" r=\"18\"/>\n",
       "<circle clip-path=\"url(#clip8503)\" style=\"fill:#0000ff; stroke:none; fill-opacity:1\" cx=\"667.588\" cy=\"903.87\" r=\"14\"/>\n",
       "<circle clip-path=\"url(#clip8503)\" style=\"fill:#000000; stroke:none; fill-opacity:1\" cx=\"767.399\" cy=\"602.34\" r=\"18\"/>\n",
       "<circle clip-path=\"url(#clip8503)\" style=\"fill:#0000ff; stroke:none; fill-opacity:1\" cx=\"767.399\" cy=\"602.34\" r=\"14\"/>\n",
       "<circle clip-path=\"url(#clip8503)\" style=\"fill:#000000; stroke:none; fill-opacity:1\" cx=\"1058.53\" cy=\"538.608\" r=\"18\"/>\n",
       "<circle clip-path=\"url(#clip8503)\" style=\"fill:#0000ff; stroke:none; fill-opacity:1\" cx=\"1058.53\" cy=\"538.608\" r=\"14\"/>\n",
       "<circle clip-path=\"url(#clip8503)\" style=\"fill:#000000; stroke:none; fill-opacity:1\" cx=\"2102.04\" cy=\"780.905\" r=\"18\"/>\n",
       "<circle clip-path=\"url(#clip8503)\" style=\"fill:#ff0000; stroke:none; fill-opacity:1\" cx=\"2102.04\" cy=\"780.905\" r=\"14\"/>\n",
       "<circle clip-path=\"url(#clip8503)\" style=\"fill:#000000; stroke:none; fill-opacity:1\" cx=\"1366.19\" cy=\"1020.73\" r=\"18\"/>\n",
       "<circle clip-path=\"url(#clip8503)\" style=\"fill:#ff0000; stroke:none; fill-opacity:1\" cx=\"1366.19\" cy=\"1020.73\" r=\"14\"/>\n",
       "<circle clip-path=\"url(#clip8503)\" style=\"fill:#000000; stroke:none; fill-opacity:1\" cx=\"1266.23\" cy=\"407.595\" r=\"18\"/>\n",
       "<circle clip-path=\"url(#clip8503)\" style=\"fill:#0000ff; stroke:none; fill-opacity:1\" cx=\"1266.23\" cy=\"407.595\" r=\"14\"/>\n",
       "<circle clip-path=\"url(#clip8503)\" style=\"fill:#000000; stroke:none; fill-opacity:1\" cx=\"1075.14\" cy=\"808.021\" r=\"18\"/>\n",
       "<circle clip-path=\"url(#clip8503)\" style=\"fill:#0000ff; stroke:none; fill-opacity:1\" cx=\"1075.14\" cy=\"808.021\" r=\"14\"/>\n",
       "<circle clip-path=\"url(#clip8503)\" style=\"fill:#000000; stroke:none; fill-opacity:1\" cx=\"1592.31\" cy=\"430.561\" r=\"18\"/>\n",
       "<circle clip-path=\"url(#clip8503)\" style=\"fill:#ff0000; stroke:none; fill-opacity:1\" cx=\"1592.31\" cy=\"430.561\" r=\"14\"/>\n",
       "<circle clip-path=\"url(#clip8503)\" style=\"fill:#000000; stroke:none; fill-opacity:1\" cx=\"493.541\" cy=\"1034.18\" r=\"18\"/>\n",
       "<circle clip-path=\"url(#clip8503)\" style=\"fill:#0000ff; stroke:none; fill-opacity:1\" cx=\"493.541\" cy=\"1034.18\" r=\"14\"/>\n",
       "<circle clip-path=\"url(#clip8503)\" style=\"fill:#000000; stroke:none; fill-opacity:1\" cx=\"1898.15\" cy=\"1228\" r=\"18\"/>\n",
       "<circle clip-path=\"url(#clip8503)\" style=\"fill:#ff0000; stroke:none; fill-opacity:1\" cx=\"1898.15\" cy=\"1228\" r=\"14\"/>\n",
       "<circle clip-path=\"url(#clip8503)\" style=\"fill:#000000; stroke:none; fill-opacity:1\" cx=\"1452.29\" cy=\"974.323\" r=\"18\"/>\n",
       "<circle clip-path=\"url(#clip8503)\" style=\"fill:#ff0000; stroke:none; fill-opacity:1\" cx=\"1452.29\" cy=\"974.323\" r=\"14\"/>\n",
       "<circle clip-path=\"url(#clip8503)\" style=\"fill:#000000; stroke:none; fill-opacity:1\" cx=\"2259.79\" cy=\"1049.99\" r=\"18\"/>\n",
       "<circle clip-path=\"url(#clip8503)\" style=\"fill:#ff0000; stroke:none; fill-opacity:1\" cx=\"2259.79\" cy=\"1049.99\" r=\"14\"/>\n",
       "<circle clip-path=\"url(#clip8503)\" style=\"fill:#000000; stroke:none; fill-opacity:1\" cx=\"744.186\" cy=\"513.694\" r=\"18\"/>\n",
       "<circle clip-path=\"url(#clip8503)\" style=\"fill:#0000ff; stroke:none; fill-opacity:1\" cx=\"744.186\" cy=\"513.694\" r=\"14\"/>\n",
       "<circle clip-path=\"url(#clip8503)\" style=\"fill:#000000; stroke:none; fill-opacity:1\" cx=\"1411.82\" cy=\"88.4582\" r=\"18\"/>\n",
       "<circle clip-path=\"url(#clip8503)\" style=\"fill:#0000ff; stroke:none; fill-opacity:1\" cx=\"1411.82\" cy=\"88.4582\" r=\"14\"/>\n",
       "<circle clip-path=\"url(#clip8503)\" style=\"fill:#000000; stroke:none; fill-opacity:1\" cx=\"1975.37\" cy=\"328.31\" r=\"18\"/>\n",
       "<circle clip-path=\"url(#clip8503)\" style=\"fill:#ff0000; stroke:none; fill-opacity:1\" cx=\"1975.37\" cy=\"328.31\" r=\"14\"/>\n",
       "<circle clip-path=\"url(#clip8503)\" style=\"fill:#000000; stroke:none; fill-opacity:1\" cx=\"1647.22\" cy=\"846.235\" r=\"18\"/>\n",
       "<circle clip-path=\"url(#clip8503)\" style=\"fill:#ff0000; stroke:none; fill-opacity:1\" cx=\"1647.22\" cy=\"846.235\" r=\"14\"/>\n",
       "<circle clip-path=\"url(#clip8503)\" style=\"fill:#000000; stroke:none; fill-opacity:1\" cx=\"848.952\" cy=\"995.046\" r=\"18\"/>\n",
       "<circle clip-path=\"url(#clip8503)\" style=\"fill:#0000ff; stroke:none; fill-opacity:1\" cx=\"848.952\" cy=\"995.046\" r=\"14\"/>\n",
       "<circle clip-path=\"url(#clip8503)\" style=\"fill:#000000; stroke:none; fill-opacity:1\" cx=\"1091.85\" cy=\"574.96\" r=\"18\"/>\n",
       "<circle clip-path=\"url(#clip8503)\" style=\"fill:#0000ff; stroke:none; fill-opacity:1\" cx=\"1091.85\" cy=\"574.96\" r=\"14\"/>\n",
       "<circle clip-path=\"url(#clip8503)\" style=\"fill:#000000; stroke:none; fill-opacity:1\" cx=\"1108.85\" cy=\"761.679\" r=\"18\"/>\n",
       "<circle clip-path=\"url(#clip8503)\" style=\"fill:#0000ff; stroke:none; fill-opacity:1\" cx=\"1108.85\" cy=\"761.679\" r=\"14\"/>\n",
       "<circle clip-path=\"url(#clip8503)\" style=\"fill:#000000; stroke:none; fill-opacity:1\" cx=\"1368.41\" cy=\"815.838\" r=\"18\"/>\n",
       "<circle clip-path=\"url(#clip8503)\" style=\"fill:#ff0000; stroke:none; fill-opacity:1\" cx=\"1368.41\" cy=\"815.838\" r=\"14\"/>\n",
       "<circle clip-path=\"url(#clip8503)\" style=\"fill:#000000; stroke:none; fill-opacity:1\" cx=\"1211.05\" cy=\"589.99\" r=\"18\"/>\n",
       "<circle clip-path=\"url(#clip8503)\" style=\"fill:#0000ff; stroke:none; fill-opacity:1\" cx=\"1211.05\" cy=\"589.99\" r=\"14\"/>\n",
       "<circle clip-path=\"url(#clip8503)\" style=\"fill:#000000; stroke:none; fill-opacity:1\" cx=\"1506.07\" cy=\"1373.24\" r=\"18\"/>\n",
       "<circle clip-path=\"url(#clip8503)\" style=\"fill:#ff0000; stroke:none; fill-opacity:1\" cx=\"1506.07\" cy=\"1373.24\" r=\"14\"/>\n",
       "<circle clip-path=\"url(#clip8503)\" style=\"fill:#000000; stroke:none; fill-opacity:1\" cx=\"867.001\" cy=\"970.871\" r=\"18\"/>\n",
       "<circle clip-path=\"url(#clip8503)\" style=\"fill:#0000ff; stroke:none; fill-opacity:1\" cx=\"867.001\" cy=\"970.871\" r=\"14\"/>\n",
       "<circle clip-path=\"url(#clip8503)\" style=\"fill:#000000; stroke:none; fill-opacity:1\" cx=\"1638.75\" cy=\"901.356\" r=\"18\"/>\n",
       "<circle clip-path=\"url(#clip8503)\" style=\"fill:#ff0000; stroke:none; fill-opacity:1\" cx=\"1638.75\" cy=\"901.356\" r=\"14\"/>\n",
       "<circle clip-path=\"url(#clip8503)\" style=\"fill:#000000; stroke:none; fill-opacity:1\" cx=\"1271.8\" cy=\"712.835\" r=\"18\"/>\n",
       "<circle clip-path=\"url(#clip8503)\" style=\"fill:#0000ff; stroke:none; fill-opacity:1\" cx=\"1271.8\" cy=\"712.835\" r=\"14\"/>\n",
       "<circle clip-path=\"url(#clip8503)\" style=\"fill:#000000; stroke:none; fill-opacity:1\" cx=\"678.061\" cy=\"853.752\" r=\"18\"/>\n",
       "<circle clip-path=\"url(#clip8503)\" style=\"fill:#0000ff; stroke:none; fill-opacity:1\" cx=\"678.061\" cy=\"853.752\" r=\"14\"/>\n",
       "<circle clip-path=\"url(#clip8503)\" style=\"fill:#000000; stroke:none; fill-opacity:1\" cx=\"1496.04\" cy=\"1223.44\" r=\"18\"/>\n",
       "<circle clip-path=\"url(#clip8503)\" style=\"fill:#ff0000; stroke:none; fill-opacity:1\" cx=\"1496.04\" cy=\"1223.44\" r=\"14\"/>\n",
       "<circle clip-path=\"url(#clip8503)\" style=\"fill:#000000; stroke:none; fill-opacity:1\" cx=\"1415.68\" cy=\"1141.49\" r=\"18\"/>\n",
       "<circle clip-path=\"url(#clip8503)\" style=\"fill:#ff0000; stroke:none; fill-opacity:1\" cx=\"1415.68\" cy=\"1141.49\" r=\"14\"/>\n",
       "<circle clip-path=\"url(#clip8503)\" style=\"fill:#000000; stroke:none; fill-opacity:1\" cx=\"965.545\" cy=\"476.594\" r=\"18\"/>\n",
       "<circle clip-path=\"url(#clip8503)\" style=\"fill:#0000ff; stroke:none; fill-opacity:1\" cx=\"965.545\" cy=\"476.594\" r=\"14\"/>\n",
       "<circle clip-path=\"url(#clip8503)\" style=\"fill:#000000; stroke:none; fill-opacity:1\" cx=\"1393.56\" cy=\"901.394\" r=\"18\"/>\n",
       "<circle clip-path=\"url(#clip8503)\" style=\"fill:#ff0000; stroke:none; fill-opacity:1\" cx=\"1393.56\" cy=\"901.394\" r=\"14\"/>\n",
       "<circle clip-path=\"url(#clip8503)\" style=\"fill:#000000; stroke:none; fill-opacity:1\" cx=\"862.891\" cy=\"579.072\" r=\"18\"/>\n",
       "<circle clip-path=\"url(#clip8503)\" style=\"fill:#0000ff; stroke:none; fill-opacity:1\" cx=\"862.891\" cy=\"579.072\" r=\"14\"/>\n",
       "<circle clip-path=\"url(#clip8503)\" style=\"fill:#000000; stroke:none; fill-opacity:1\" cx=\"1059.06\" cy=\"1171.71\" r=\"18\"/>\n",
       "<circle clip-path=\"url(#clip8503)\" style=\"fill:#ff0000; stroke:none; fill-opacity:1\" cx=\"1059.06\" cy=\"1171.71\" r=\"14\"/>\n",
       "<circle clip-path=\"url(#clip8503)\" style=\"fill:#000000; stroke:none; fill-opacity:1\" cx=\"917.546\" cy=\"651.312\" r=\"18\"/>\n",
       "<circle clip-path=\"url(#clip8503)\" style=\"fill:#0000ff; stroke:none; fill-opacity:1\" cx=\"917.546\" cy=\"651.312\" r=\"14\"/>\n",
       "<circle clip-path=\"url(#clip8503)\" style=\"fill:#000000; stroke:none; fill-opacity:1\" cx=\"240.125\" cy=\"693.384\" r=\"18\"/>\n",
       "<circle clip-path=\"url(#clip8503)\" style=\"fill:#0000ff; stroke:none; fill-opacity:1\" cx=\"240.125\" cy=\"693.384\" r=\"14\"/>\n",
       "<circle clip-path=\"url(#clip8503)\" style=\"fill:#000000; stroke:none; fill-opacity:1\" cx=\"921.402\" cy=\"578.212\" r=\"18\"/>\n",
       "<circle clip-path=\"url(#clip8503)\" style=\"fill:#0000ff; stroke:none; fill-opacity:1\" cx=\"921.402\" cy=\"578.212\" r=\"14\"/>\n",
       "<circle clip-path=\"url(#clip8503)\" style=\"fill:#000000; stroke:none; fill-opacity:1\" cx=\"1320.45\" cy=\"723.269\" r=\"18\"/>\n",
       "<circle clip-path=\"url(#clip8503)\" style=\"fill:#0000ff; stroke:none; fill-opacity:1\" cx=\"1320.45\" cy=\"723.269\" r=\"14\"/>\n",
       "</svg>\n"
      ]
     },
     "metadata": {},
     "output_type": "display_data"
    }
   ],
   "source": [
    "s = plot(leg=false)\n",
    "for i=1:N\n",
    "    if y_dict[i] == 0\n",
    "        scatter!([x_dict[i][1]],[x_dict[i][2]],color=\"blue\")\n",
    "    else\n",
    "        scatter!([x_dict[i][1]],[x_dict[i][2]],color=\"red\")\n",
    "    end\n",
    "end\n",
    "display(s)"
   ]
  },
  {
   "cell_type": "markdown",
   "metadata": {},
   "source": [
    "# Model Construction"
   ]
  },
  {
   "cell_type": "code",
   "execution_count": 7,
   "metadata": {},
   "outputs": [
    {
     "data": {
      "text/plain": [
       "fA (generic function with 1 method)"
      ]
     },
     "execution_count": 7,
     "metadata": {},
     "output_type": "execute_result"
    }
   ],
   "source": [
    "function fA(w,m0,s0)\n",
    "    return pdf(MvNormal(m0,s0),w)\n",
    "end"
   ]
  },
  {
   "cell_type": "code",
   "execution_count": 8,
   "metadata": {},
   "outputs": [
    {
     "data": {
      "text/plain": [
       "sigmoid (generic function with 1 method)"
      ]
     },
     "execution_count": 8,
     "metadata": {},
     "output_type": "execute_result"
    }
   ],
   "source": [
    "function sigmoid(a)\n",
    "    return 1.0/(1.0+exp(-1.0*a))\n",
    "end"
   ]
  },
  {
   "cell_type": "code",
   "execution_count": 9,
   "metadata": {},
   "outputs": [
    {
     "data": {
      "text/plain": [
       "fB (generic function with 1 method)"
      ]
     },
     "execution_count": 9,
     "metadata": {},
     "output_type": "execute_result"
    }
   ],
   "source": [
    "function fB(w,x,y)\n",
    "    return pdf(Bernoulli(sigmoid(transpose(w)*x)),y)\n",
    "end"
   ]
  },
  {
   "cell_type": "markdown",
   "metadata": {},
   "source": [
    "# Inference"
   ]
  },
  {
   "cell_type": "code",
   "execution_count": 10,
   "metadata": {},
   "outputs": [
    {
     "data": {
      "text/plain": [
       "free_energy_gaussian (generic function with 1 method)"
      ]
     },
     "execution_count": 10,
     "metadata": {},
     "output_type": "execute_result"
    }
   ],
   "source": [
    "free_energy_gaussian(m1,C1,m2,C2) = -log(2*pi) - log(sqrt(det(C2))) - (tr(inv(C2)*(C1+m1*transpose(m1))) - 2*(transpose(m1)*inv(C2)*m2) + transpose(m2)*inv(C2)*m2)/2"
   ]
  },
  {
   "cell_type": "code",
   "execution_count": 11,
   "metadata": {},
   "outputs": [
    {
     "data": {
      "text/plain": [
       "g (generic function with 1 method)"
      ]
     },
     "execution_count": 11,
     "metadata": {},
     "output_type": "execute_result"
    }
   ],
   "source": [
    "#Reparameterization function for Gaussian\n",
    "function g(eps,a,b)\n",
    "    return a + b*eps\n",
    "end"
   ]
  },
  {
   "cell_type": "code",
   "execution_count": 12,
   "metadata": {},
   "outputs": [
    {
     "data": {
      "text/plain": [
       "(Dict(0=>[0.0, 0.0]), Dict(0=>[4.47214 0.0; 0.0 4.47214]))"
      ]
     },
     "execution_count": 12,
     "metadata": {},
     "output_type": "execute_result"
    }
   ],
   "source": [
    "nu_a = 0.05 #step size for mean optimization(much more smaller than the first example to prevent the problem with exploding gradient)\n",
    "nu_b = 0.05 #step size for variance optimization\n",
    "a_t, b_t = [0.; 0.], Diagonal(ones(2,2)) * sqrt(20.) #initial mean and variance values\n",
    "free_energy_list = zeros(0)\n",
    "a_t_dict, b_t_dict = Dict(0 => a_t), Dict(0 => b_t)"
   ]
  },
  {
   "cell_type": "code",
   "execution_count": 13,
   "metadata": {},
   "outputs": [],
   "source": [
    "num_epochs = 3\n",
    "S = 10\n",
    "#Online learning\n",
    "for epoch=1:num_epochs\n",
    "for t=1:N\n",
    "    a_t_old = a_t\n",
    "    b_t_old = b_t\n",
    "    a_est, b_est = [0.; 0.], [0, 0]\n",
    "    for s=1:S\n",
    "        eps = rand(MvNormal([0.; 0.],Diagonal(ones(2,2)))) #N([0; 0], [1 0;0 1])\n",
    "        m_sample = g(eps,a_t_old,b_t_old)\n",
    "        fA_m(m) = fA(m, a_t, b_t)\n",
    "        log_fA_m(m) = log(fA_m(m))\n",
    "        message_1 = ForwardDiff.gradient(log_fA_m,m_sample)\n",
    "        fB_m(m) = fB(m, x_dict[t], y_dict[t])\n",
    "        log_fB_m(m) = log(fB_m(m))\n",
    "        message_2 = ForwardDiff.gradient(log_fB_m,m_sample)\n",
    "        un_norm_log_marg = message_1 + message_2\n",
    "        g_a(a) = g(eps,a,b_t)\n",
    "        grad_a = un_norm_log_marg .* [ForwardDiff.jacobian(g_a,a_t)[1,1]; ForwardDiff.jacobian(g_a,a_t)[2,2]]\n",
    "        a_est = a_est + grad_a\n",
    "        g_b(b) = g(eps,a_t,b)\n",
    "        grad_b = un_norm_log_marg .* [ForwardDiff.jacobian(g_b,b_t)[1,1]; ForwardDiff.jacobian(g_b,b_t)[2,4]] + [1.0/b_t[1,1]; 1.0/b_t[2,2]]\n",
    "        b_est = b_est + grad_b\n",
    "    end\n",
    "    a_t = a_t + (nu_a/S).*a_est\n",
    "    b_t = b_t + (nu_b/S).*Diagonal(b_est)\n",
    "    #free_energy = free_energy_gaussian(a_t,b_t,a_t,b_t) - free_energy_gaussian(a_t,b_t,a_t_old,b_t_old) - log(fB(a_t, x_dict[t], y_dict[t]))\n",
    "    free_energy = free_energy_gaussian(a_t,b_t,a_t,b_t) - free_energy_gaussian(a_t,b_t,[0.; 0.], Diagonal(ones(2,2)) * sqrt(20.))\n",
    "    for k=1:N\n",
    "        free_energy = free_energy - log(fB(a_t, x_dict[k], y_dict[k]))\n",
    "    end\n",
    "    append!(free_energy_list, free_energy)\n",
    "    get!(a_t_dict, t+N*(epoch-1), a_t)\n",
    "    get!(b_t_dict, t+N*(epoch-1), b_t)\n",
    "end\n",
    "end"
   ]
  },
  {
   "cell_type": "code",
   "execution_count": 14,
   "metadata": {},
   "outputs": [
    {
     "name": "stdout",
     "output_type": "stream",
     "text": [
      "[2.60167, -1.83451]\n",
      "[0.982899 0.0; 0.0 0.874152]\n"
     ]
    }
   ],
   "source": [
    "println(a_t)\n",
    "println(b_t)"
   ]
  },
  {
   "cell_type": "code",
   "execution_count": 15,
   "metadata": {},
   "outputs": [
    {
     "data": {
      "image/svg+xml": [
       "<?xml version=\"1.0\" encoding=\"utf-8\"?>\n",
       "<svg xmlns=\"http://www.w3.org/2000/svg\" xmlns:xlink=\"http://www.w3.org/1999/xlink\" width=\"600\" height=\"400\" viewBox=\"0 0 2400 1600\">\n",
       "<defs>\n",
       "  <clipPath id=\"clip8700\">\n",
       "    <rect x=\"0\" y=\"0\" width=\"2000\" height=\"2000\"/>\n",
       "  </clipPath>\n",
       "</defs>\n",
       "<defs>\n",
       "  <clipPath id=\"clip8701\">\n",
       "    <rect x=\"0\" y=\"0\" width=\"2400\" height=\"1600\"/>\n",
       "  </clipPath>\n",
       "</defs>\n",
       "<polygon clip-path=\"url(#clip8701)\" points=\"\n",
       "0,1600 2400,1600 2400,0 0,0 \n",
       "  \" fill=\"#ffffff\" fill-rule=\"evenodd\" fill-opacity=\"1\"/>\n",
       "<defs>\n",
       "  <clipPath id=\"clip8702\">\n",
       "    <rect x=\"480\" y=\"0\" width=\"1681\" height=\"1600\"/>\n",
       "  </clipPath>\n",
       "</defs>\n",
       "<polygon clip-path=\"url(#clip8701)\" points=\"\n",
       "211.005,1440.48 2321.26,1440.48 2321.26,47.2441 211.005,47.2441 \n",
       "  \" fill=\"#ffffff\" fill-rule=\"evenodd\" fill-opacity=\"1\"/>\n",
       "<defs>\n",
       "  <clipPath id=\"clip8703\">\n",
       "    <rect x=\"211\" y=\"47\" width=\"2111\" height=\"1394\"/>\n",
       "  </clipPath>\n",
       "</defs>\n",
       "<polyline clip-path=\"url(#clip8703)\" style=\"stroke:#000000; stroke-width:2; stroke-opacity:0.1; fill:none\" points=\"\n",
       "  264.071,1440.48 264.071,47.2441 \n",
       "  \"/>\n",
       "<polyline clip-path=\"url(#clip8703)\" style=\"stroke:#000000; stroke-width:2; stroke-opacity:0.1; fill:none\" points=\"\n",
       "  929.893,1440.48 929.893,47.2441 \n",
       "  \"/>\n",
       "<polyline clip-path=\"url(#clip8703)\" style=\"stroke:#000000; stroke-width:2; stroke-opacity:0.1; fill:none\" points=\"\n",
       "  1595.71,1440.48 1595.71,47.2441 \n",
       "  \"/>\n",
       "<polyline clip-path=\"url(#clip8703)\" style=\"stroke:#000000; stroke-width:2; stroke-opacity:0.1; fill:none\" points=\"\n",
       "  2261.54,1440.48 2261.54,47.2441 \n",
       "  \"/>\n",
       "<polyline clip-path=\"url(#clip8703)\" style=\"stroke:#000000; stroke-width:2; stroke-opacity:0.1; fill:none\" points=\"\n",
       "  211.005,1221.34 2321.26,1221.34 \n",
       "  \"/>\n",
       "<polyline clip-path=\"url(#clip8703)\" style=\"stroke:#000000; stroke-width:2; stroke-opacity:0.1; fill:none\" points=\"\n",
       "  211.005,978.769 2321.26,978.769 \n",
       "  \"/>\n",
       "<polyline clip-path=\"url(#clip8703)\" style=\"stroke:#000000; stroke-width:2; stroke-opacity:0.1; fill:none\" points=\"\n",
       "  211.005,736.199 2321.26,736.199 \n",
       "  \"/>\n",
       "<polyline clip-path=\"url(#clip8703)\" style=\"stroke:#000000; stroke-width:2; stroke-opacity:0.1; fill:none\" points=\"\n",
       "  211.005,493.628 2321.26,493.628 \n",
       "  \"/>\n",
       "<polyline clip-path=\"url(#clip8703)\" style=\"stroke:#000000; stroke-width:2; stroke-opacity:0.1; fill:none\" points=\"\n",
       "  211.005,251.058 2321.26,251.058 \n",
       "  \"/>\n",
       "<polyline clip-path=\"url(#clip8701)\" style=\"stroke:#000000; stroke-width:4; stroke-opacity:1; fill:none\" points=\"\n",
       "  211.005,1440.48 2321.26,1440.48 \n",
       "  \"/>\n",
       "<polyline clip-path=\"url(#clip8701)\" style=\"stroke:#000000; stroke-width:4; stroke-opacity:1; fill:none\" points=\"\n",
       "  211.005,1440.48 211.005,47.2441 \n",
       "  \"/>\n",
       "<polyline clip-path=\"url(#clip8701)\" style=\"stroke:#000000; stroke-width:4; stroke-opacity:1; fill:none\" points=\"\n",
       "  264.071,1440.48 264.071,1419.58 \n",
       "  \"/>\n",
       "<polyline clip-path=\"url(#clip8701)\" style=\"stroke:#000000; stroke-width:4; stroke-opacity:1; fill:none\" points=\"\n",
       "  929.893,1440.48 929.893,1419.58 \n",
       "  \"/>\n",
       "<polyline clip-path=\"url(#clip8701)\" style=\"stroke:#000000; stroke-width:4; stroke-opacity:1; fill:none\" points=\"\n",
       "  1595.71,1440.48 1595.71,1419.58 \n",
       "  \"/>\n",
       "<polyline clip-path=\"url(#clip8701)\" style=\"stroke:#000000; stroke-width:4; stroke-opacity:1; fill:none\" points=\"\n",
       "  2261.54,1440.48 2261.54,1419.58 \n",
       "  \"/>\n",
       "<polyline clip-path=\"url(#clip8701)\" style=\"stroke:#000000; stroke-width:4; stroke-opacity:1; fill:none\" points=\"\n",
       "  211.005,1221.34 242.659,1221.34 \n",
       "  \"/>\n",
       "<polyline clip-path=\"url(#clip8701)\" style=\"stroke:#000000; stroke-width:4; stroke-opacity:1; fill:none\" points=\"\n",
       "  211.005,978.769 242.659,978.769 \n",
       "  \"/>\n",
       "<polyline clip-path=\"url(#clip8701)\" style=\"stroke:#000000; stroke-width:4; stroke-opacity:1; fill:none\" points=\"\n",
       "  211.005,736.199 242.659,736.199 \n",
       "  \"/>\n",
       "<polyline clip-path=\"url(#clip8701)\" style=\"stroke:#000000; stroke-width:4; stroke-opacity:1; fill:none\" points=\"\n",
       "  211.005,493.628 242.659,493.628 \n",
       "  \"/>\n",
       "<polyline clip-path=\"url(#clip8701)\" style=\"stroke:#000000; stroke-width:4; stroke-opacity:1; fill:none\" points=\"\n",
       "  211.005,251.058 242.659,251.058 \n",
       "  \"/>\n",
       "<g clip-path=\"url(#clip8701)\">\n",
       "<text style=\"fill:#000000; fill-opacity:1; font-family:Arial,Helvetica Neue,Helvetica,sans-serif; font-size:48px; text-anchor:middle;\" transform=\"rotate(0, 264.071, 1494.48)\" x=\"264.071\" y=\"1494.48\">0</text>\n",
       "</g>\n",
       "<g clip-path=\"url(#clip8701)\">\n",
       "<text style=\"fill:#000000; fill-opacity:1; font-family:Arial,Helvetica Neue,Helvetica,sans-serif; font-size:48px; text-anchor:middle;\" transform=\"rotate(0, 929.893, 1494.48)\" x=\"929.893\" y=\"1494.48\">100</text>\n",
       "</g>\n",
       "<g clip-path=\"url(#clip8701)\">\n",
       "<text style=\"fill:#000000; fill-opacity:1; font-family:Arial,Helvetica Neue,Helvetica,sans-serif; font-size:48px; text-anchor:middle;\" transform=\"rotate(0, 1595.71, 1494.48)\" x=\"1595.71\" y=\"1494.48\">200</text>\n",
       "</g>\n",
       "<g clip-path=\"url(#clip8701)\">\n",
       "<text style=\"fill:#000000; fill-opacity:1; font-family:Arial,Helvetica Neue,Helvetica,sans-serif; font-size:48px; text-anchor:middle;\" transform=\"rotate(0, 2261.54, 1494.48)\" x=\"2261.54\" y=\"1494.48\">300</text>\n",
       "</g>\n",
       "<g clip-path=\"url(#clip8701)\">\n",
       "<text style=\"fill:#000000; fill-opacity:1; font-family:Arial,Helvetica Neue,Helvetica,sans-serif; font-size:48px; text-anchor:end;\" transform=\"rotate(0, 187.005, 1238.84)\" x=\"187.005\" y=\"1238.84\">20</text>\n",
       "</g>\n",
       "<g clip-path=\"url(#clip8701)\">\n",
       "<text style=\"fill:#000000; fill-opacity:1; font-family:Arial,Helvetica Neue,Helvetica,sans-serif; font-size:48px; text-anchor:end;\" transform=\"rotate(0, 187.005, 996.269)\" x=\"187.005\" y=\"996.269\">30</text>\n",
       "</g>\n",
       "<g clip-path=\"url(#clip8701)\">\n",
       "<text style=\"fill:#000000; fill-opacity:1; font-family:Arial,Helvetica Neue,Helvetica,sans-serif; font-size:48px; text-anchor:end;\" transform=\"rotate(0, 187.005, 753.699)\" x=\"187.005\" y=\"753.699\">40</text>\n",
       "</g>\n",
       "<g clip-path=\"url(#clip8701)\">\n",
       "<text style=\"fill:#000000; fill-opacity:1; font-family:Arial,Helvetica Neue,Helvetica,sans-serif; font-size:48px; text-anchor:end;\" transform=\"rotate(0, 187.005, 511.128)\" x=\"187.005\" y=\"511.128\">50</text>\n",
       "</g>\n",
       "<g clip-path=\"url(#clip8701)\">\n",
       "<text style=\"fill:#000000; fill-opacity:1; font-family:Arial,Helvetica Neue,Helvetica,sans-serif; font-size:48px; text-anchor:end;\" transform=\"rotate(0, 187.005, 268.558)\" x=\"187.005\" y=\"268.558\">60</text>\n",
       "</g>\n",
       "<g clip-path=\"url(#clip8701)\">\n",
       "<text style=\"fill:#000000; fill-opacity:1; font-family:Arial,Helvetica Neue,Helvetica,sans-serif; font-size:66px; text-anchor:middle;\" transform=\"rotate(0, 1266.13, 1590.4)\" x=\"1266.13\" y=\"1590.4\">Iteration</text>\n",
       "</g>\n",
       "<g clip-path=\"url(#clip8701)\">\n",
       "<text style=\"fill:#000000; fill-opacity:1; font-family:Arial,Helvetica Neue,Helvetica,sans-serif; font-size:66px; text-anchor:middle;\" transform=\"rotate(-90, 57.6, 743.863)\" x=\"57.6\" y=\"743.863\">Free energy</text>\n",
       "</g>\n",
       "<polyline clip-path=\"url(#clip8703)\" style=\"stroke:#0000ff; stroke-width:4; stroke-opacity:1; fill:none\" points=\"\n",
       "  270.729,86.6754 277.387,187.231 284.046,318.943 290.704,348.726 297.362,377.926 304.02,359.375 310.678,403.788 317.337,525.799 323.995,526.196 330.653,617.586 \n",
       "  337.311,628.169 343.97,651.439 350.628,720.089 357.286,734.144 363.944,751.843 370.602,751.102 377.261,781.041 383.919,833.856 390.577,879.324 397.235,916.812 \n",
       "  403.894,950.449 410.552,959.65 417.21,961.295 423.868,957.234 430.526,981.297 437.185,989.301 443.843,979.079 450.501,981.957 457.159,975.058 463.817,1010.05 \n",
       "  470.476,1025.25 477.134,1038.5 483.792,1037.18 490.45,1056 497.109,1083.99 503.767,1094.7 510.425,1108.81 517.083,1120.81 523.741,1142.25 530.4,1165.68 \n",
       "  537.058,1171.42 543.716,1163.57 550.374,1146.9 557.032,1126.09 563.691,1123.65 570.349,1137.74 577.007,1161.85 583.665,1165.32 590.324,1150.53 596.982,1167.39 \n",
       "  603.64,1182.91 610.298,1171.28 616.956,1176.4 623.615,1188.79 630.273,1190.38 636.931,1184.79 643.589,1195.23 650.247,1195.76 656.906,1209.81 663.564,1217.38 \n",
       "  670.222,1227.2 676.88,1244.81 683.539,1250.02 690.197,1250.9 696.855,1246.05 703.513,1249.91 710.171,1242.4 716.83,1235.57 723.488,1232.49 730.146,1245.21 \n",
       "  736.804,1248.97 743.462,1229.85 750.121,1232.58 756.779,1227.25 763.437,1236.85 770.095,1239.79 776.754,1239.4 783.412,1276.28 790.07,1265.85 796.728,1269.55 \n",
       "  803.386,1271.42 810.045,1272.23 816.703,1273.48 823.361,1278.46 830.019,1277.46 836.678,1285.29 843.336,1286.89 849.994,1289.42 856.652,1292.17 863.31,1290.54 \n",
       "  869.969,1292.05 876.627,1293.41 883.285,1291.53 889.943,1285.74 896.601,1284.56 903.26,1281.15 909.918,1286.47 916.576,1294.56 923.234,1291.95 929.893,1297.17 \n",
       "  936.551,1298.4 943.209,1297.17 949.867,1294.23 956.525,1294.47 963.184,1302.01 969.842,1289.78 976.5,1285.01 983.158,1278.26 989.816,1295.12 996.475,1293.79 \n",
       "  1003.13,1309.01 1009.79,1317.31 1016.45,1317.42 1023.11,1319.05 1029.77,1315.45 1036.42,1312.94 1043.08,1315.93 1049.74,1318.64 1056.4,1319.68 1063.06,1319.06 \n",
       "  1069.72,1323.69 1076.37,1331.27 1083.03,1325.28 1089.69,1329.29 1096.35,1329.77 1103.01,1334.06 1109.66,1339.03 1116.32,1337.49 1122.98,1336.37 1129.64,1336.41 \n",
       "  1136.3,1335.16 1142.96,1332.87 1149.61,1332.71 1156.27,1337.05 1162.93,1337.53 1169.59,1339.54 1176.25,1344.16 1182.9,1343.42 1189.56,1344.5 1196.22,1346.57 \n",
       "  1202.88,1353.42 1209.54,1360.55 1216.2,1357.04 1222.85,1351.37 1229.51,1353.73 1236.17,1354.88 1242.83,1349.68 1249.49,1354.62 1256.15,1356.58 1262.8,1357.52 \n",
       "  1269.46,1357.54 1276.12,1359.96 1282.78,1361.88 1289.44,1358.8 1296.09,1356.97 1302.75,1351.9 1309.41,1355.15 1316.07,1352.28 1322.73,1351.9 1329.39,1353.5 \n",
       "  1336.04,1355.26 1342.7,1356.99 1349.36,1354.48 1356.02,1353.65 1362.68,1354.55 1369.33,1355.79 1375.99,1355.71 1382.65,1355.94 1389.31,1358.35 1395.97,1357.28 \n",
       "  1402.63,1353.92 1409.28,1335.68 1415.94,1331.67 1422.6,1333.24 1429.26,1337.53 1435.92,1339.2 1442.58,1345.72 1449.23,1353.74 1455.89,1339.09 1462.55,1343.06 \n",
       "  1469.21,1344.04 1475.87,1347.87 1482.52,1349.21 1489.18,1345.58 1495.84,1343.84 1502.5,1342.76 1509.16,1344.98 1515.82,1347.26 1522.47,1349.24 1529.13,1348.08 \n",
       "  1535.79,1347.29 1542.45,1351.88 1549.11,1349.06 1555.76,1349.02 1562.42,1349.19 1569.08,1358.19 1575.74,1360.98 1582.4,1358.88 1589.06,1358.08 1595.71,1361.96 \n",
       "  1602.37,1361.44 1609.03,1357.82 1615.69,1355 1622.35,1359.53 1629.01,1361 1635.66,1365.01 1642.32,1362.05 1648.98,1365.42 1655.64,1358.96 1662.3,1361.68 \n",
       "  1668.95,1372.72 1675.61,1382.37 1682.27,1383.83 1688.93,1384.95 1695.59,1385.81 1702.25,1386.22 1708.9,1385.35 1715.56,1385.13 1722.22,1387.38 1728.88,1388.38 \n",
       "  1735.54,1389.89 1742.19,1390.75 1748.85,1391.26 1755.51,1390.61 1762.17,1388.09 1768.83,1387.71 1775.49,1390.72 1782.14,1390.87 1788.8,1387.8 1795.46,1386.21 \n",
       "  1802.12,1387.82 1808.78,1389.1 1815.44,1391.01 1822.09,1392.3 1828.75,1393.93 1835.41,1394.11 1842.07,1395.14 1848.73,1395.47 1855.38,1394.94 1862.04,1396.33 \n",
       "  1868.7,1399.58 1875.36,1399.9 1882.02,1398.04 1888.68,1397.62 1895.33,1399.21 1901.99,1396.97 1908.65,1396.82 1915.31,1397.36 1921.97,1396.43 1928.62,1395.9 \n",
       "  1935.28,1395.25 1941.94,1396.14 1948.6,1394.66 1955.26,1394.46 1961.92,1395.69 1968.57,1393.26 1975.23,1394.48 1981.89,1393.99 1988.55,1395.92 1995.21,1396.28 \n",
       "  2001.87,1398.47 2008.52,1397.66 2015.18,1397.36 2021.84,1398.55 2028.5,1400.17 2035.16,1398.13 2041.81,1400.29 2048.47,1399.43 2055.13,1397.94 2061.79,1400.63 \n",
       "  2068.45,1399.89 2075.11,1393.43 2081.76,1395.36 2088.42,1395.94 2095.08,1392.58 2101.74,1392.88 2108.4,1392.64 2115.05,1395.8 2121.71,1394.82 2128.37,1391.61 \n",
       "  2135.03,1391.59 2141.69,1392.91 2148.35,1390.48 2155,1389.43 2161.66,1389.07 2168.32,1390.59 2174.98,1392.31 2181.64,1393.85 2188.3,1393.46 2194.95,1392.53 \n",
       "  2201.61,1394.66 2208.27,1393.56 2214.93,1392.27 2221.59,1391.65 2228.24,1391.48 2234.9,1393.84 2241.56,1397 2248.22,1398.47 2254.88,1398.89 2261.54,1401.05 \n",
       "  \n",
       "  \"/>\n",
       "<polygon clip-path=\"url(#clip8701)\" points=\"\n",
       "1958.43,251.724 2249.26,251.724 2249.26,130.764 1958.43,130.764 \n",
       "  \" fill=\"#ffffff\" fill-rule=\"evenodd\" fill-opacity=\"1\"/>\n",
       "<polyline clip-path=\"url(#clip8701)\" style=\"stroke:#000000; stroke-width:4; stroke-opacity:1; fill:none\" points=\"\n",
       "  1958.43,251.724 2249.26,251.724 2249.26,130.764 1958.43,130.764 1958.43,251.724 \n",
       "  \"/>\n",
       "<polyline clip-path=\"url(#clip8701)\" style=\"stroke:#0000ff; stroke-width:4; stroke-opacity:1; fill:none\" points=\"\n",
       "  1982.43,191.244 2126.43,191.244 \n",
       "  \"/>\n",
       "<g clip-path=\"url(#clip8701)\">\n",
       "<text style=\"fill:#000000; fill-opacity:1; font-family:Arial,Helvetica Neue,Helvetica,sans-serif; font-size:48px; text-anchor:start;\" transform=\"rotate(0, 2150.43, 208.744)\" x=\"2150.43\" y=\"208.744\">y1</text>\n",
       "</g>\n",
       "</svg>\n"
      ]
     },
     "execution_count": 15,
     "metadata": {},
     "output_type": "execute_result"
    }
   ],
   "source": [
    "plot(collect(1:num_epochs*N),free_energy_list, color=\"blue\")\n",
    "xlabel!(\"Iteration\")\n",
    "ylabel!(\"Free energy\")"
   ]
  },
  {
   "cell_type": "code",
   "execution_count": 16,
   "metadata": {},
   "outputs": [],
   "source": [
    "y_predict = Dict()\n",
    "for i=1:N\n",
    "    z_i = transpose(a_t)*x_dict[i]\n",
    "    p_i = 1.0/(1.0 + exp(-1*z_i))\n",
    "    y_i = round(p_i)\n",
    "    get!(y_predict, i, y_i)\n",
    "end"
   ]
  },
  {
   "cell_type": "code",
   "execution_count": 17,
   "metadata": {},
   "outputs": [
    {
     "data": {
      "text/plain": [
       "0.96"
      ]
     },
     "execution_count": 17,
     "metadata": {},
     "output_type": "execute_result"
    }
   ],
   "source": [
    "correct_predict = 0.0\n",
    "for i=1:N\n",
    "    if y_predict[i] == y_dict[i]\n",
    "        correct_predict += 1\n",
    "    end\n",
    "end\n",
    "accuracy = correct_predict/N"
   ]
  },
  {
   "cell_type": "code",
   "execution_count": 18,
   "metadata": {},
   "outputs": [
    {
     "name": "stderr",
     "output_type": "stream",
     "text": [
      "┌ Info: Saved animation to \n",
      "│   fn = /Users/sakbayrak/Codes/Semih-EUSIPCO-2019/slope_change.gif\n",
      "└ @ Plots /Users/sakbayrak/.julia/packages/Plots/UQI78/src/animation.jl:90\n"
     ]
    },
    {
     "data": {
      "text/html": [
       "<img src=\"slope_change.gif\" />"
      ],
      "text/plain": [
       "Plots.AnimatedGif(\"/Users/sakbayrak/Codes/Semih-EUSIPCO-2019/slope_change.gif\")"
      ]
     },
     "execution_count": 18,
     "metadata": {},
     "output_type": "execute_result"
    }
   ],
   "source": [
    "x1_array = collect(-6.:0.01:6.)\n",
    "anim = @animate for i=1:num_epochs*N\n",
    "    s = plot()\n",
    "    for j=1:N\n",
    "        z_j = transpose(a_t_dict[i])*x_dict[j]\n",
    "        p_j = 1.0/(1.0 + exp(-1*z_j))\n",
    "        y_j = round(p_j)\n",
    "        if y_j == 0\n",
    "            scatter!([x_dict[j][1]],[x_dict[j][2]],color=\"blue\",leg=false)\n",
    "        else\n",
    "            scatter!([x_dict[j][1]],[x_dict[j][2]],color=\"red\",leg=false)\n",
    "        end\n",
    "    end\n",
    "    x2_array = -1*a_t_dict[i][1]*x1_array./a_t_dict[i][2];\n",
    "    x2_array_uncertain_1 = -1*(a_t_dict[i][1]+b_t_dict[i][1])*x1_array./(a_t_dict[i][2]-b_t_dict[i][4]);\n",
    "    x2_array_uncertain_2 = -1*(a_t_dict[i][1]-b_t_dict[i][1])*x1_array./(a_t_dict[i][2]+b_t_dict[i][4]);\n",
    "    plot!(x1_array,x2_array,color=\"green\", lw=3, xlims=(-6,6), ylims=(-3,3), title=\"i=$(i)\", label=\"Decision boundry\")\n",
    "    plot!(x1_array,x2_array_uncertain_1,color=\"black\", lw=2, linestyle = :dash)\n",
    "    plot!(x1_array,x2_array_uncertain_2,color=\"black\", lw=2, linestyle = :dash)\n",
    "end\n",
    "gif(anim, \"slope_change.gif\", fps = 5)"
   ]
  },
  {
   "cell_type": "code",
   "execution_count": 23,
   "metadata": {},
   "outputs": [
    {
     "name": "stderr",
     "output_type": "stream",
     "text": [
      "┌ Info: Saved animation to \n",
      "│   fn = /Users/sakbayrak/Codes/Semih-EUSIPCO-2019/change_variational_mean.gif\n",
      "└ @ Plots /Users/sakbayrak/.julia/packages/Plots/UQI78/src/animation.jl:90\n"
     ]
    },
    {
     "data": {
      "text/html": [
       "<img src=\"change_variational_mean.gif\" />"
      ],
      "text/plain": [
       "Plots.AnimatedGif(\"/Users/sakbayrak/Codes/Semih-EUSIPCO-2019/change_variational_mean.gif\")"
      ]
     },
     "execution_count": 23,
     "metadata": {},
     "output_type": "execute_result"
    }
   ],
   "source": [
    "anim = @animate for i = 0:num_epochs*N\n",
    "    s = plot(leg=false)\n",
    "    p(x, y) = pdf(MvNormal(a_t_dict[i],b_t_dict[i]),[x; y])\n",
    "    contour!(collect(a_t_dict[i][1]-5:0.2:a_t_dict[i][1]+5),collect(a_t_dict[i][2]-5:0.2:a_t_dict[i][2]+5),p,nlevels=3)\n",
    "    scatter!([a_t_dict[i][1]],[a_t_dict[i][2]], xlims=(-4,4), ylims=(-4,4))\n",
    "    title!(\"Change of variational mean and variance for weights\")\n",
    "    xlabel!(\"w1\")\n",
    "    ylabel!(\"w2\")\n",
    "end\n",
    "gif(anim, \"change_variational_mean.gif\", fps = 15)"
   ]
  },
  {
   "cell_type": "code",
   "execution_count": 24,
   "metadata": {},
   "outputs": [
    {
     "name": "stderr",
     "output_type": "stream",
     "text": [
      "┌ Info: Saved animation to \n",
      "│   fn = /Users/sakbayrak/Codes/Semih-EUSIPCO-2019/change_variational_sample.gif\n",
      "└ @ Plots /Users/sakbayrak/.julia/packages/Plots/UQI78/src/animation.jl:90\n"
     ]
    },
    {
     "data": {
      "text/html": [
       "<img src=\"change_variational_sample.gif\" />"
      ],
      "text/plain": [
       "Plots.AnimatedGif(\"/Users/sakbayrak/Codes/Semih-EUSIPCO-2019/change_variational_sample.gif\")"
      ]
     },
     "execution_count": 24,
     "metadata": {},
     "output_type": "execute_result"
    }
   ],
   "source": [
    "anim = @animate for i = 0:num_epochs*N\n",
    "    s = plot(leg=false)\n",
    "    histogram2d(rand(Normal(a_t_dict[i][1],b_t_dict[i][1]),10000),rand(Normal(a_t_dict[i][2],b_t_dict[i][4]),10000),nbins=100,xlims=(-10,10), ylims=(-10,10))\n",
    "    title!(\"Change of variational mean and variance for weights\")\n",
    "    xlabel!(\"w1\")\n",
    "    ylabel!(\"w2\")\n",
    "end\n",
    "gif(anim, \"change_variational_sample.gif\", fps = 15)"
   ]
  },
  {
   "cell_type": "code",
   "execution_count": null,
   "metadata": {},
   "outputs": [],
   "source": []
  }
 ],
 "metadata": {
  "kernelspec": {
   "display_name": "Julia 1.0.2",
   "language": "julia",
   "name": "julia-1.0"
  },
  "language_info": {
   "file_extension": ".jl",
   "mimetype": "application/julia",
   "name": "julia",
   "version": "1.0.2"
  }
 },
 "nbformat": 4,
 "nbformat_minor": 2
}
