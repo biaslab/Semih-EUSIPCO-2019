{
 "cells": [
  {
   "cell_type": "code",
   "execution_count": 1,
   "metadata": {},
   "outputs": [],
   "source": [
    "using Distributions, ForwardDiff, Plots, LinearAlgebra, Images"
   ]
  },
  {
   "cell_type": "markdown",
   "metadata": {},
   "source": [
    "# Model Specification"
   ]
  },
  {
   "cell_type": "code",
   "execution_count": 2,
   "metadata": {},
   "outputs": [
    {
     "data": {
      "image/png": "[encoded data removed]",
      "text/plain": [
       "554×582 Array{RGBA{N0f8},2} with eltype RGBA{Normed{UInt8,8}}:\n",
       " RGBA{N0f8}(1.0,1.0,1.0,1.0)  …  RGBA{N0f8}(1.0,1.0,1.0,1.0)\n",
       " RGBA{N0f8}(1.0,1.0,1.0,1.0)     RGBA{N0f8}(1.0,1.0,1.0,1.0)\n",
       " RGBA{N0f8}(1.0,1.0,1.0,1.0)     RGBA{N0f8}(1.0,1.0,1.0,1.0)\n",
       " RGBA{N0f8}(1.0,1.0,1.0,1.0)     RGBA{N0f8}(1.0,1.0,1.0,1.0)\n",
       " RGBA{N0f8}(1.0,1.0,1.0,1.0)     RGBA{N0f8}(1.0,1.0,1.0,1.0)\n",
       " RGBA{N0f8}(1.0,1.0,1.0,1.0)  …  RGBA{N0f8}(1.0,1.0,1.0,1.0)\n",
       " RGBA{N0f8}(1.0,1.0,1.0,1.0)     RGBA{N0f8}(1.0,1.0,1.0,1.0)\n",
       " RGBA{N0f8}(1.0,1.0,1.0,1.0)     RGBA{N0f8}(1.0,1.0,1.0,1.0)\n",
       " RGBA{N0f8}(1.0,1.0,1.0,1.0)     RGBA{N0f8}(1.0,1.0,1.0,1.0)\n",
       " RGBA{N0f8}(1.0,1.0,1.0,1.0)     RGBA{N0f8}(1.0,1.0,1.0,1.0)\n",
       " RGBA{N0f8}(1.0,1.0,1.0,1.0)  …  RGBA{N0f8}(1.0,1.0,1.0,1.0)\n",
       " RGBA{N0f8}(1.0,1.0,1.0,1.0)     RGBA{N0f8}(1.0,1.0,1.0,1.0)\n",
       " RGBA{N0f8}(1.0,1.0,1.0,1.0)     RGBA{N0f8}(1.0,1.0,1.0,1.0)\n",
       " ⋮                            ⋱                             \n",
       " RGBA{N0f8}(1.0,1.0,1.0,1.0)     RGBA{N0f8}(1.0,1.0,1.0,1.0)\n",
       " RGBA{N0f8}(1.0,1.0,1.0,1.0)     RGBA{N0f8}(1.0,1.0,1.0,1.0)\n",
       " RGBA{N0f8}(1.0,1.0,1.0,1.0)     RGBA{N0f8}(1.0,1.0,1.0,1.0)\n",
       " RGBA{N0f8}(1.0,1.0,1.0,1.0)  …  RGBA{N0f8}(1.0,1.0,1.0,1.0)\n",
       " RGBA{N0f8}(1.0,1.0,1.0,1.0)     RGBA{N0f8}(1.0,1.0,1.0,1.0)\n",
       " RGBA{N0f8}(1.0,1.0,1.0,1.0)     RGBA{N0f8}(1.0,1.0,1.0,1.0)\n",
       " RGBA{N0f8}(1.0,1.0,1.0,1.0)     RGBA{N0f8}(1.0,1.0,1.0,1.0)\n",
       " RGBA{N0f8}(1.0,1.0,1.0,1.0)     RGBA{N0f8}(1.0,1.0,1.0,1.0)\n",
       " RGBA{N0f8}(1.0,1.0,1.0,1.0)  …  RGBA{N0f8}(1.0,1.0,1.0,1.0)\n",
       " RGBA{N0f8}(1.0,1.0,1.0,1.0)     RGBA{N0f8}(1.0,1.0,1.0,1.0)\n",
       " RGBA{N0f8}(1.0,1.0,1.0,1.0)     RGBA{N0f8}(1.0,1.0,1.0,1.0)\n",
       " RGBA{N0f8}(1.0,1.0,1.0,1.0)     RGBA{N0f8}(1.0,1.0,1.0,1.0)"
      ]
     },
     "execution_count": 2,
     "metadata": {},
     "output_type": "execute_result"
    }
   ],
   "source": [
    "img = load(\"BLR.png\")"
   ]
  },
  {
   "cell_type": "markdown",
   "metadata": {},
   "source": [
    "$$\n",
    "\\begin{align*}\n",
    "    f_A(w) &= \\mathcal{N}(w;\\mu_0,\\sigma_0^{2}) \\\\\n",
    "    f_B(y,x,w) &= \\mathcal{BE}(y;\\sigma(w^{T}x))\n",
    "\\end{align*}\n",
    "$$"
   ]
  },
  {
   "cell_type": "markdown",
   "metadata": {},
   "source": [
    "## Incoming messages"
   ]
  },
  {
   "cell_type": "markdown",
   "metadata": {},
   "source": [
    "We apply online inference. For each data point, approximated posterior of $w$ becomes the prior for the next data point."
   ]
  },
  {
   "cell_type": "markdown",
   "metadata": {},
   "source": [
    "$$\n",
    "\\begin{align*}\n",
    "    m_1(w) &= \\frac{1}{\\sqrt{2\\pi}\\sigma_0}\\exp\\left( -\\frac{(w-\\mu_0)^{2}}{2\\sigma_0^{2}} \\right) \\\\\n",
    "    m_2(w) &= \\sigma(w^{T}\\hat{x})^{\\hat{y}} (1 - \\sigma(w^{T}\\hat{x}))^{(1-\\hat{y})}\n",
    "\\end{align*}\n",
    "$$"
   ]
  },
  {
   "cell_type": "markdown",
   "metadata": {},
   "source": [
    "# Synthetic Data"
   ]
  },
  {
   "cell_type": "code",
   "execution_count": 3,
   "metadata": {},
   "outputs": [],
   "source": [
    "# Generate data\n",
    "N = 100 #Number of data points\n",
    "w_real = [4.5; -3.5]\n",
    "x_dict = Dict()\n",
    "y_dict = Dict()\n",
    "for i=1:N\n",
    "    x_i = rand(MvNormal([0.; 0.], [3.  0.0; 0.0 2.]))\n",
    "    get!(x_dict, i, x_i)\n",
    "    z_i = transpose(w_real)*x_i\n",
    "    p_i = 1.0/(1.0 + exp(-1*z_i))\n",
    "    y_i = 1.0*rand(Bernoulli(p_i))\n",
    "    #y_i = round(p_i)\n",
    "    get!(y_dict, i, y_i)\n",
    "end"
   ]
  },
  {
   "cell_type": "code",
   "execution_count": 4,
   "metadata": {},
   "outputs": [
    {
     "data": {
      "image/svg+xml": [
       "<?xml version=\"1.0\" encoding=\"utf-8\"?>\n",
       "<svg xmlns=\"http://www.w3.org/2000/svg\" xmlns:xlink=\"http://www.w3.org/1999/xlink\" width=\"600\" height=\"400\" viewBox=\"0 0 2400 1600\">\n",
       "<defs>\n",
       "  <clipPath id=\"clip8200\">\n",
       "    <rect x=\"0\" y=\"0\" width=\"2000\" height=\"2000\"/>\n",
       "  </clipPath>\n",
       "</defs>\n",
       "<defs>\n",
       "  <clipPath id=\"clip8201\">\n",
       "    <rect x=\"0\" y=\"0\" width=\"2400\" height=\"1600\"/>\n",
       "  </clipPath>\n",
       "</defs>\n",
       "<polygon clip-path=\"url(#clip8201)\" points=\"\n",
       "0,1600 2400,1600 2400,0 0,0 \n",
       "  \" fill=\"#ffffff\" fill-rule=\"evenodd\" fill-opacity=\"1\"/>\n",
       "<defs>\n",
       "  <clipPath id=\"clip8202\">\n",
       "    <rect x=\"480\" y=\"0\" width=\"1681\" height=\"1600\"/>\n",
       "  </clipPath>\n",
       "</defs>\n",
       "<polygon clip-path=\"url(#clip8201)\" points=\"\n",
       "149.361,1503.47 2321.26,1503.47 2321.26,47.2441 149.361,47.2441 \n",
       "  \" fill=\"#ffffff\" fill-rule=\"evenodd\" fill-opacity=\"1\"/>\n",
       "<defs>\n",
       "  <clipPath id=\"clip8203\">\n",
       "    <rect x=\"149\" y=\"47\" width=\"2173\" height=\"1457\"/>\n",
       "  </clipPath>\n",
       "</defs>\n",
       "<polyline clip-path=\"url(#clip8203)\" style=\"stroke:#000000; stroke-width:2; stroke-opacity:0.1; fill:none\" points=\"\n",
       "  507.834,1503.47 507.834,47.2441 \n",
       "  \"/>\n",
       "<polyline clip-path=\"url(#clip8203)\" style=\"stroke:#000000; stroke-width:2; stroke-opacity:0.1; fill:none\" points=\"\n",
       "  945.603,1503.47 945.603,47.2441 \n",
       "  \"/>\n",
       "<polyline clip-path=\"url(#clip8203)\" style=\"stroke:#000000; stroke-width:2; stroke-opacity:0.1; fill:none\" points=\"\n",
       "  1383.37,1503.47 1383.37,47.2441 \n",
       "  \"/>\n",
       "<polyline clip-path=\"url(#clip8203)\" style=\"stroke:#000000; stroke-width:2; stroke-opacity:0.1; fill:none\" points=\"\n",
       "  1821.14,1503.47 1821.14,47.2441 \n",
       "  \"/>\n",
       "<polyline clip-path=\"url(#clip8203)\" style=\"stroke:#000000; stroke-width:2; stroke-opacity:0.1; fill:none\" points=\"\n",
       "  2258.91,1503.47 2258.91,47.2441 \n",
       "  \"/>\n",
       "<polyline clip-path=\"url(#clip8203)\" style=\"stroke:#000000; stroke-width:2; stroke-opacity:0.1; fill:none\" points=\"\n",
       "  149.361,1389.84 2321.26,1389.84 \n",
       "  \"/>\n",
       "<polyline clip-path=\"url(#clip8203)\" style=\"stroke:#000000; stroke-width:2; stroke-opacity:0.1; fill:none\" points=\"\n",
       "  149.361,1009.83 2321.26,1009.83 \n",
       "  \"/>\n",
       "<polyline clip-path=\"url(#clip8203)\" style=\"stroke:#000000; stroke-width:2; stroke-opacity:0.1; fill:none\" points=\"\n",
       "  149.361,629.822 2321.26,629.822 \n",
       "  \"/>\n",
       "<polyline clip-path=\"url(#clip8203)\" style=\"stroke:#000000; stroke-width:2; stroke-opacity:0.1; fill:none\" points=\"\n",
       "  149.361,249.813 2321.26,249.813 \n",
       "  \"/>\n",
       "<polyline clip-path=\"url(#clip8201)\" style=\"stroke:#000000; stroke-width:4; stroke-opacity:1; fill:none\" points=\"\n",
       "  149.361,1503.47 2321.26,1503.47 \n",
       "  \"/>\n",
       "<polyline clip-path=\"url(#clip8201)\" style=\"stroke:#000000; stroke-width:4; stroke-opacity:1; fill:none\" points=\"\n",
       "  149.361,1503.47 149.361,47.2441 \n",
       "  \"/>\n",
       "<polyline clip-path=\"url(#clip8201)\" style=\"stroke:#000000; stroke-width:4; stroke-opacity:1; fill:none\" points=\"\n",
       "  507.834,1503.47 507.834,1481.63 \n",
       "  \"/>\n",
       "<polyline clip-path=\"url(#clip8201)\" style=\"stroke:#000000; stroke-width:4; stroke-opacity:1; fill:none\" points=\"\n",
       "  945.603,1503.47 945.603,1481.63 \n",
       "  \"/>\n",
       "<polyline clip-path=\"url(#clip8201)\" style=\"stroke:#000000; stroke-width:4; stroke-opacity:1; fill:none\" points=\"\n",
       "  1383.37,1503.47 1383.37,1481.63 \n",
       "  \"/>\n",
       "<polyline clip-path=\"url(#clip8201)\" style=\"stroke:#000000; stroke-width:4; stroke-opacity:1; fill:none\" points=\"\n",
       "  1821.14,1503.47 1821.14,1481.63 \n",
       "  \"/>\n",
       "<polyline clip-path=\"url(#clip8201)\" style=\"stroke:#000000; stroke-width:4; stroke-opacity:1; fill:none\" points=\"\n",
       "  2258.91,1503.47 2258.91,1481.63 \n",
       "  \"/>\n",
       "<polyline clip-path=\"url(#clip8201)\" style=\"stroke:#000000; stroke-width:4; stroke-opacity:1; fill:none\" points=\"\n",
       "  149.361,1389.84 181.939,1389.84 \n",
       "  \"/>\n",
       "<polyline clip-path=\"url(#clip8201)\" style=\"stroke:#000000; stroke-width:4; stroke-opacity:1; fill:none\" points=\"\n",
       "  149.361,1009.83 181.939,1009.83 \n",
       "  \"/>\n",
       "<polyline clip-path=\"url(#clip8201)\" style=\"stroke:#000000; stroke-width:4; stroke-opacity:1; fill:none\" points=\"\n",
       "  149.361,629.822 181.939,629.822 \n",
       "  \"/>\n",
       "<polyline clip-path=\"url(#clip8201)\" style=\"stroke:#000000; stroke-width:4; stroke-opacity:1; fill:none\" points=\"\n",
       "  149.361,249.813 181.939,249.813 \n",
       "  \"/>\n",
       "<g clip-path=\"url(#clip8201)\">\n",
       "<text style=\"fill:#000000; fill-opacity:1; font-family:Arial,Helvetica Neue,Helvetica,sans-serif; font-size:48px; text-anchor:middle;\" transform=\"rotate(0, 507.834, 1557.47)\" x=\"507.834\" y=\"1557.47\">-4</text>\n",
       "</g>\n",
       "<g clip-path=\"url(#clip8201)\">\n",
       "<text style=\"fill:#000000; fill-opacity:1; font-family:Arial,Helvetica Neue,Helvetica,sans-serif; font-size:48px; text-anchor:middle;\" transform=\"rotate(0, 945.603, 1557.47)\" x=\"945.603\" y=\"1557.47\">-2</text>\n",
       "</g>\n",
       "<g clip-path=\"url(#clip8201)\">\n",
       "<text style=\"fill:#000000; fill-opacity:1; font-family:Arial,Helvetica Neue,Helvetica,sans-serif; font-size:48px; text-anchor:middle;\" transform=\"rotate(0, 1383.37, 1557.47)\" x=\"1383.37\" y=\"1557.47\">0</text>\n",
       "</g>\n",
       "<g clip-path=\"url(#clip8201)\">\n",
       "<text style=\"fill:#000000; fill-opacity:1; font-family:Arial,Helvetica Neue,Helvetica,sans-serif; font-size:48px; text-anchor:middle;\" transform=\"rotate(0, 1821.14, 1557.47)\" x=\"1821.14\" y=\"1557.47\">2</text>\n",
       "</g>\n",
       "<g clip-path=\"url(#clip8201)\">\n",
       "<text style=\"fill:#000000; fill-opacity:1; font-family:Arial,Helvetica Neue,Helvetica,sans-serif; font-size:48px; text-anchor:middle;\" transform=\"rotate(0, 2258.91, 1557.47)\" x=\"2258.91\" y=\"1557.47\">4</text>\n",
       "</g>\n",
       "<g clip-path=\"url(#clip8201)\">\n",
       "<text style=\"fill:#000000; fill-opacity:1; font-family:Arial,Helvetica Neue,Helvetica,sans-serif; font-size:48px; text-anchor:end;\" transform=\"rotate(0, 125.361, 1407.34)\" x=\"125.361\" y=\"1407.34\">-4</text>\n",
       "</g>\n",
       "<g clip-path=\"url(#clip8201)\">\n",
       "<text style=\"fill:#000000; fill-opacity:1; font-family:Arial,Helvetica Neue,Helvetica,sans-serif; font-size:48px; text-anchor:end;\" transform=\"rotate(0, 125.361, 1027.33)\" x=\"125.361\" y=\"1027.33\">-2</text>\n",
       "</g>\n",
       "<g clip-path=\"url(#clip8201)\">\n",
       "<text style=\"fill:#000000; fill-opacity:1; font-family:Arial,Helvetica Neue,Helvetica,sans-serif; font-size:48px; text-anchor:end;\" transform=\"rotate(0, 125.361, 647.322)\" x=\"125.361\" y=\"647.322\">0</text>\n",
       "</g>\n",
       "<g clip-path=\"url(#clip8201)\">\n",
       "<text style=\"fill:#000000; fill-opacity:1; font-family:Arial,Helvetica Neue,Helvetica,sans-serif; font-size:48px; text-anchor:end;\" transform=\"rotate(0, 125.361, 267.313)\" x=\"125.361\" y=\"267.313\">2</text>\n",
       "</g>\n",
       "<circle clip-path=\"url(#clip8203)\" style=\"fill:#000000; stroke:none; fill-opacity:1\" cx=\"777.29\" cy=\"417.436\" r=\"18\"/>\n",
       "<circle clip-path=\"url(#clip8203)\" style=\"fill:#0000ff; stroke:none; fill-opacity:1\" cx=\"777.29\" cy=\"417.436\" r=\"14\"/>\n",
       "<circle clip-path=\"url(#clip8203)\" style=\"fill:#000000; stroke:none; fill-opacity:1\" cx=\"1493.05\" cy=\"966.129\" r=\"18\"/>\n",
       "<circle clip-path=\"url(#clip8203)\" style=\"fill:#ff0000; stroke:none; fill-opacity:1\" cx=\"1493.05\" cy=\"966.129\" r=\"14\"/>\n",
       "<circle clip-path=\"url(#clip8203)\" style=\"fill:#000000; stroke:none; fill-opacity:1\" cx=\"1611.24\" cy=\"523.618\" r=\"18\"/>\n",
       "<circle clip-path=\"url(#clip8203)\" style=\"fill:#ff0000; stroke:none; fill-opacity:1\" cx=\"1611.24\" cy=\"523.618\" r=\"14\"/>\n",
       "<circle clip-path=\"url(#clip8203)\" style=\"fill:#000000; stroke:none; fill-opacity:1\" cx=\"1407.01\" cy=\"773.969\" r=\"18\"/>\n",
       "<circle clip-path=\"url(#clip8203)\" style=\"fill:#ff0000; stroke:none; fill-opacity:1\" cx=\"1407.01\" cy=\"773.969\" r=\"14\"/>\n",
       "<circle clip-path=\"url(#clip8203)\" style=\"fill:#000000; stroke:none; fill-opacity:1\" cx=\"1333.49\" cy=\"338.904\" r=\"18\"/>\n",
       "<circle clip-path=\"url(#clip8203)\" style=\"fill:#0000ff; stroke:none; fill-opacity:1\" cx=\"1333.49\" cy=\"338.904\" r=\"14\"/>\n",
       "<circle clip-path=\"url(#clip8203)\" style=\"fill:#000000; stroke:none; fill-opacity:1\" cx=\"1353.19\" cy=\"643.367\" r=\"18\"/>\n",
       "<circle clip-path=\"url(#clip8203)\" style=\"fill:#ff0000; stroke:none; fill-opacity:1\" cx=\"1353.19\" cy=\"643.367\" r=\"14\"/>\n",
       "<circle clip-path=\"url(#clip8203)\" style=\"fill:#000000; stroke:none; fill-opacity:1\" cx=\"1638.82\" cy=\"543.906\" r=\"18\"/>\n",
       "<circle clip-path=\"url(#clip8203)\" style=\"fill:#ff0000; stroke:none; fill-opacity:1\" cx=\"1638.82\" cy=\"543.906\" r=\"14\"/>\n",
       "<circle clip-path=\"url(#clip8203)\" style=\"fill:#000000; stroke:none; fill-opacity:1\" cx=\"1439.04\" cy=\"572.626\" r=\"18\"/>\n",
       "<circle clip-path=\"url(#clip8203)\" style=\"fill:#ff0000; stroke:none; fill-opacity:1\" cx=\"1439.04\" cy=\"572.626\" r=\"14\"/>\n",
       "<circle clip-path=\"url(#clip8203)\" style=\"fill:#000000; stroke:none; fill-opacity:1\" cx=\"1087.12\" cy=\"970.792\" r=\"18\"/>\n",
       "<circle clip-path=\"url(#clip8203)\" style=\"fill:#ff0000; stroke:none; fill-opacity:1\" cx=\"1087.12\" cy=\"970.792\" r=\"14\"/>\n",
       "<circle clip-path=\"url(#clip8203)\" style=\"fill:#000000; stroke:none; fill-opacity:1\" cx=\"1970.74\" cy=\"89.7134\" r=\"18\"/>\n",
       "<circle clip-path=\"url(#clip8203)\" style=\"fill:#ff0000; stroke:none; fill-opacity:1\" cx=\"1970.74\" cy=\"89.7134\" r=\"14\"/>\n",
       "<circle clip-path=\"url(#clip8203)\" style=\"fill:#000000; stroke:none; fill-opacity:1\" cx=\"1191.9\" cy=\"733.862\" r=\"18\"/>\n",
       "<circle clip-path=\"url(#clip8203)\" style=\"fill:#0000ff; stroke:none; fill-opacity:1\" cx=\"1191.9\" cy=\"733.862\" r=\"14\"/>\n",
       "<circle clip-path=\"url(#clip8203)\" style=\"fill:#000000; stroke:none; fill-opacity:1\" cx=\"1072.67\" cy=\"876.58\" r=\"18\"/>\n",
       "<circle clip-path=\"url(#clip8203)\" style=\"fill:#0000ff; stroke:none; fill-opacity:1\" cx=\"1072.67\" cy=\"876.58\" r=\"14\"/>\n",
       "<circle clip-path=\"url(#clip8203)\" style=\"fill:#000000; stroke:none; fill-opacity:1\" cx=\"1016.77\" cy=\"866.636\" r=\"18\"/>\n",
       "<circle clip-path=\"url(#clip8203)\" style=\"fill:#0000ff; stroke:none; fill-opacity:1\" cx=\"1016.77\" cy=\"866.636\" r=\"14\"/>\n",
       "<circle clip-path=\"url(#clip8203)\" style=\"fill:#000000; stroke:none; fill-opacity:1\" cx=\"1205.08\" cy=\"400.279\" r=\"18\"/>\n",
       "<circle clip-path=\"url(#clip8203)\" style=\"fill:#0000ff; stroke:none; fill-opacity:1\" cx=\"1205.08\" cy=\"400.279\" r=\"14\"/>\n",
       "<circle clip-path=\"url(#clip8203)\" style=\"fill:#000000; stroke:none; fill-opacity:1\" cx=\"1177.67\" cy=\"691.49\" r=\"18\"/>\n",
       "<circle clip-path=\"url(#clip8203)\" style=\"fill:#0000ff; stroke:none; fill-opacity:1\" cx=\"1177.67\" cy=\"691.49\" r=\"14\"/>\n",
       "<circle clip-path=\"url(#clip8203)\" style=\"fill:#000000; stroke:none; fill-opacity:1\" cx=\"1205.09\" cy=\"1462.26\" r=\"18\"/>\n",
       "<circle clip-path=\"url(#clip8203)\" style=\"fill:#ff0000; stroke:none; fill-opacity:1\" cx=\"1205.09\" cy=\"1462.26\" r=\"14\"/>\n",
       "<circle clip-path=\"url(#clip8203)\" style=\"fill:#000000; stroke:none; fill-opacity:1\" cx=\"1431.52\" cy=\"707.858\" r=\"18\"/>\n",
       "<circle clip-path=\"url(#clip8203)\" style=\"fill:#ff0000; stroke:none; fill-opacity:1\" cx=\"1431.52\" cy=\"707.858\" r=\"14\"/>\n",
       "<circle clip-path=\"url(#clip8203)\" style=\"fill:#000000; stroke:none; fill-opacity:1\" cx=\"1365.04\" cy=\"510.122\" r=\"18\"/>\n",
       "<circle clip-path=\"url(#clip8203)\" style=\"fill:#ff0000; stroke:none; fill-opacity:1\" cx=\"1365.04\" cy=\"510.122\" r=\"14\"/>\n",
       "<circle clip-path=\"url(#clip8203)\" style=\"fill:#000000; stroke:none; fill-opacity:1\" cx=\"614.493\" cy=\"254.805\" r=\"18\"/>\n",
       "<circle clip-path=\"url(#clip8203)\" style=\"fill:#0000ff; stroke:none; fill-opacity:1\" cx=\"614.493\" cy=\"254.805\" r=\"14\"/>\n",
       "<circle clip-path=\"url(#clip8203)\" style=\"fill:#000000; stroke:none; fill-opacity:1\" cx=\"1296.7\" cy=\"649.994\" r=\"18\"/>\n",
       "<circle clip-path=\"url(#clip8203)\" style=\"fill:#0000ff; stroke:none; fill-opacity:1\" cx=\"1296.7\" cy=\"649.994\" r=\"14\"/>\n",
       "<circle clip-path=\"url(#clip8203)\" style=\"fill:#000000; stroke:none; fill-opacity:1\" cx=\"1375.28\" cy=\"747.821\" r=\"18\"/>\n",
       "<circle clip-path=\"url(#clip8203)\" style=\"fill:#ff0000; stroke:none; fill-opacity:1\" cx=\"1375.28\" cy=\"747.821\" r=\"14\"/>\n",
       "<circle clip-path=\"url(#clip8203)\" style=\"fill:#000000; stroke:none; fill-opacity:1\" cx=\"961.607\" cy=\"601.668\" r=\"18\"/>\n",
       "<circle clip-path=\"url(#clip8203)\" style=\"fill:#0000ff; stroke:none; fill-opacity:1\" cx=\"961.607\" cy=\"601.668\" r=\"14\"/>\n",
       "<circle clip-path=\"url(#clip8203)\" style=\"fill:#000000; stroke:none; fill-opacity:1\" cx=\"1521.62\" cy=\"565.704\" r=\"18\"/>\n",
       "<circle clip-path=\"url(#clip8203)\" style=\"fill:#ff0000; stroke:none; fill-opacity:1\" cx=\"1521.62\" cy=\"565.704\" r=\"14\"/>\n",
       "<circle clip-path=\"url(#clip8203)\" style=\"fill:#000000; stroke:none; fill-opacity:1\" cx=\"1816.85\" cy=\"461.765\" r=\"18\"/>\n",
       "<circle clip-path=\"url(#clip8203)\" style=\"fill:#ff0000; stroke:none; fill-opacity:1\" cx=\"1816.85\" cy=\"461.765\" r=\"14\"/>\n",
       "<circle clip-path=\"url(#clip8203)\" style=\"fill:#000000; stroke:none; fill-opacity:1\" cx=\"1192.72\" cy=\"479.123\" r=\"18\"/>\n",
       "<circle clip-path=\"url(#clip8203)\" style=\"fill:#0000ff; stroke:none; fill-opacity:1\" cx=\"1192.72\" cy=\"479.123\" r=\"14\"/>\n",
       "<circle clip-path=\"url(#clip8203)\" style=\"fill:#000000; stroke:none; fill-opacity:1\" cx=\"2219.84\" cy=\"918.7\" r=\"18\"/>\n",
       "<circle clip-path=\"url(#clip8203)\" style=\"fill:#ff0000; stroke:none; fill-opacity:1\" cx=\"2219.84\" cy=\"918.7\" r=\"14\"/>\n",
       "<circle clip-path=\"url(#clip8203)\" style=\"fill:#000000; stroke:none; fill-opacity:1\" cx=\"1243.66\" cy=\"263.499\" r=\"18\"/>\n",
       "<circle clip-path=\"url(#clip8203)\" style=\"fill:#0000ff; stroke:none; fill-opacity:1\" cx=\"1243.66\" cy=\"263.499\" r=\"14\"/>\n",
       "<circle clip-path=\"url(#clip8203)\" style=\"fill:#000000; stroke:none; fill-opacity:1\" cx=\"2030.33\" cy=\"387.759\" r=\"18\"/>\n",
       "<circle clip-path=\"url(#clip8203)\" style=\"fill:#ff0000; stroke:none; fill-opacity:1\" cx=\"2030.33\" cy=\"387.759\" r=\"14\"/>\n",
       "<circle clip-path=\"url(#clip8203)\" style=\"fill:#000000; stroke:none; fill-opacity:1\" cx=\"1473.01\" cy=\"581.754\" r=\"18\"/>\n",
       "<circle clip-path=\"url(#clip8203)\" style=\"fill:#ff0000; stroke:none; fill-opacity:1\" cx=\"1473.01\" cy=\"581.754\" r=\"14\"/>\n",
       "<circle clip-path=\"url(#clip8203)\" style=\"fill:#000000; stroke:none; fill-opacity:1\" cx=\"1339.08\" cy=\"253.62\" r=\"18\"/>\n",
       "<circle clip-path=\"url(#clip8203)\" style=\"fill:#0000ff; stroke:none; fill-opacity:1\" cx=\"1339.08\" cy=\"253.62\" r=\"14\"/>\n",
       "<circle clip-path=\"url(#clip8203)\" style=\"fill:#000000; stroke:none; fill-opacity:1\" cx=\"1484.25\" cy=\"1188.25\" r=\"18\"/>\n",
       "<circle clip-path=\"url(#clip8203)\" style=\"fill:#ff0000; stroke:none; fill-opacity:1\" cx=\"1484.25\" cy=\"1188.25\" r=\"14\"/>\n",
       "<circle clip-path=\"url(#clip8203)\" style=\"fill:#000000; stroke:none; fill-opacity:1\" cx=\"1616.45\" cy=\"595.245\" r=\"18\"/>\n",
       "<circle clip-path=\"url(#clip8203)\" style=\"fill:#ff0000; stroke:none; fill-opacity:1\" cx=\"1616.45\" cy=\"595.245\" r=\"14\"/>\n",
       "<circle clip-path=\"url(#clip8203)\" style=\"fill:#000000; stroke:none; fill-opacity:1\" cx=\"788.371\" cy=\"1016.74\" r=\"18\"/>\n",
       "<circle clip-path=\"url(#clip8203)\" style=\"fill:#0000ff; stroke:none; fill-opacity:1\" cx=\"788.371\" cy=\"1016.74\" r=\"14\"/>\n",
       "<circle clip-path=\"url(#clip8203)\" style=\"fill:#000000; stroke:none; fill-opacity:1\" cx=\"1813.21\" cy=\"653.778\" r=\"18\"/>\n",
       "<circle clip-path=\"url(#clip8203)\" style=\"fill:#ff0000; stroke:none; fill-opacity:1\" cx=\"1813.21\" cy=\"653.778\" r=\"14\"/>\n",
       "<circle clip-path=\"url(#clip8203)\" style=\"fill:#000000; stroke:none; fill-opacity:1\" cx=\"1280.71\" cy=\"223.011\" r=\"18\"/>\n",
       "<circle clip-path=\"url(#clip8203)\" style=\"fill:#0000ff; stroke:none; fill-opacity:1\" cx=\"1280.71\" cy=\"223.011\" r=\"14\"/>\n",
       "<circle clip-path=\"url(#clip8203)\" style=\"fill:#000000; stroke:none; fill-opacity:1\" cx=\"1028.59\" cy=\"1104.45\" r=\"18\"/>\n",
       "<circle clip-path=\"url(#clip8203)\" style=\"fill:#ff0000; stroke:none; fill-opacity:1\" cx=\"1028.59\" cy=\"1104.45\" r=\"14\"/>\n",
       "<circle clip-path=\"url(#clip8203)\" style=\"fill:#000000; stroke:none; fill-opacity:1\" cx=\"664.227\" cy=\"598.529\" r=\"18\"/>\n",
       "<circle clip-path=\"url(#clip8203)\" style=\"fill:#0000ff; stroke:none; fill-opacity:1\" cx=\"664.227\" cy=\"598.529\" r=\"14\"/>\n",
       "<circle clip-path=\"url(#clip8203)\" style=\"fill:#000000; stroke:none; fill-opacity:1\" cx=\"1865.61\" cy=\"424.023\" r=\"18\"/>\n",
       "<circle clip-path=\"url(#clip8203)\" style=\"fill:#ff0000; stroke:none; fill-opacity:1\" cx=\"1865.61\" cy=\"424.023\" r=\"14\"/>\n",
       "<circle clip-path=\"url(#clip8203)\" style=\"fill:#000000; stroke:none; fill-opacity:1\" cx=\"1948.73\" cy=\"578.01\" r=\"18\"/>\n",
       "<circle clip-path=\"url(#clip8203)\" style=\"fill:#ff0000; stroke:none; fill-opacity:1\" cx=\"1948.73\" cy=\"578.01\" r=\"14\"/>\n",
       "<circle clip-path=\"url(#clip8203)\" style=\"fill:#000000; stroke:none; fill-opacity:1\" cx=\"1519.67\" cy=\"355.328\" r=\"18\"/>\n",
       "<circle clip-path=\"url(#clip8203)\" style=\"fill:#0000ff; stroke:none; fill-opacity:1\" cx=\"1519.67\" cy=\"355.328\" r=\"14\"/>\n",
       "<circle clip-path=\"url(#clip8203)\" style=\"fill:#000000; stroke:none; fill-opacity:1\" cx=\"1486.44\" cy=\"759.601\" r=\"18\"/>\n",
       "<circle clip-path=\"url(#clip8203)\" style=\"fill:#ff0000; stroke:none; fill-opacity:1\" cx=\"1486.44\" cy=\"759.601\" r=\"14\"/>\n",
       "<circle clip-path=\"url(#clip8203)\" style=\"fill:#000000; stroke:none; fill-opacity:1\" cx=\"1515.78\" cy=\"350.284\" r=\"18\"/>\n",
       "<circle clip-path=\"url(#clip8203)\" style=\"fill:#0000ff; stroke:none; fill-opacity:1\" cx=\"1515.78\" cy=\"350.284\" r=\"14\"/>\n",
       "<circle clip-path=\"url(#clip8203)\" style=\"fill:#000000; stroke:none; fill-opacity:1\" cx=\"1733.85\" cy=\"695.553\" r=\"18\"/>\n",
       "<circle clip-path=\"url(#clip8203)\" style=\"fill:#ff0000; stroke:none; fill-opacity:1\" cx=\"1733.85\" cy=\"695.553\" r=\"14\"/>\n",
       "<circle clip-path=\"url(#clip8203)\" style=\"fill:#000000; stroke:none; fill-opacity:1\" cx=\"1571.78\" cy=\"470.86\" r=\"18\"/>\n",
       "<circle clip-path=\"url(#clip8203)\" style=\"fill:#0000ff; stroke:none; fill-opacity:1\" cx=\"1571.78\" cy=\"470.86\" r=\"14\"/>\n",
       "<circle clip-path=\"url(#clip8203)\" style=\"fill:#000000; stroke:none; fill-opacity:1\" cx=\"1184.3\" cy=\"1150.77\" r=\"18\"/>\n",
       "<circle clip-path=\"url(#clip8203)\" style=\"fill:#ff0000; stroke:none; fill-opacity:1\" cx=\"1184.3\" cy=\"1150.77\" r=\"14\"/>\n",
       "<circle clip-path=\"url(#clip8203)\" style=\"fill:#000000; stroke:none; fill-opacity:1\" cx=\"790.596\" cy=\"744.437\" r=\"18\"/>\n",
       "<circle clip-path=\"url(#clip8203)\" style=\"fill:#0000ff; stroke:none; fill-opacity:1\" cx=\"790.596\" cy=\"744.437\" r=\"14\"/>\n",
       "<circle clip-path=\"url(#clip8203)\" style=\"fill:#000000; stroke:none; fill-opacity:1\" cx=\"1215.08\" cy=\"774.881\" r=\"18\"/>\n",
       "<circle clip-path=\"url(#clip8203)\" style=\"fill:#0000ff; stroke:none; fill-opacity:1\" cx=\"1215.08\" cy=\"774.881\" r=\"14\"/>\n",
       "<circle clip-path=\"url(#clip8203)\" style=\"fill:#000000; stroke:none; fill-opacity:1\" cx=\"1209.13\" cy=\"735.194\" r=\"18\"/>\n",
       "<circle clip-path=\"url(#clip8203)\" style=\"fill:#0000ff; stroke:none; fill-opacity:1\" cx=\"1209.13\" cy=\"735.194\" r=\"14\"/>\n",
       "<circle clip-path=\"url(#clip8203)\" style=\"fill:#000000; stroke:none; fill-opacity:1\" cx=\"1862.55\" cy=\"738.924\" r=\"18\"/>\n",
       "<circle clip-path=\"url(#clip8203)\" style=\"fill:#ff0000; stroke:none; fill-opacity:1\" cx=\"1862.55\" cy=\"738.924\" r=\"14\"/>\n",
       "<circle clip-path=\"url(#clip8203)\" style=\"fill:#000000; stroke:none; fill-opacity:1\" cx=\"1354.02\" cy=\"518.458\" r=\"18\"/>\n",
       "<circle clip-path=\"url(#clip8203)\" style=\"fill:#0000ff; stroke:none; fill-opacity:1\" cx=\"1354.02\" cy=\"518.458\" r=\"14\"/>\n",
       "<circle clip-path=\"url(#clip8203)\" style=\"fill:#000000; stroke:none; fill-opacity:1\" cx=\"1588.92\" cy=\"392.236\" r=\"18\"/>\n",
       "<circle clip-path=\"url(#clip8203)\" style=\"fill:#ff0000; stroke:none; fill-opacity:1\" cx=\"1588.92\" cy=\"392.236\" r=\"14\"/>\n",
       "<circle clip-path=\"url(#clip8203)\" style=\"fill:#000000; stroke:none; fill-opacity:1\" cx=\"1352.12\" cy=\"964.97\" r=\"18\"/>\n",
       "<circle clip-path=\"url(#clip8203)\" style=\"fill:#ff0000; stroke:none; fill-opacity:1\" cx=\"1352.12\" cy=\"964.97\" r=\"14\"/>\n",
       "<circle clip-path=\"url(#clip8203)\" style=\"fill:#000000; stroke:none; fill-opacity:1\" cx=\"1195.11\" cy=\"1038.54\" r=\"18\"/>\n",
       "<circle clip-path=\"url(#clip8203)\" style=\"fill:#0000ff; stroke:none; fill-opacity:1\" cx=\"1195.11\" cy=\"1038.54\" r=\"14\"/>\n",
       "<circle clip-path=\"url(#clip8203)\" style=\"fill:#000000; stroke:none; fill-opacity:1\" cx=\"1213.69\" cy=\"755.15\" r=\"18\"/>\n",
       "<circle clip-path=\"url(#clip8203)\" style=\"fill:#ff0000; stroke:none; fill-opacity:1\" cx=\"1213.69\" cy=\"755.15\" r=\"14\"/>\n",
       "<circle clip-path=\"url(#clip8203)\" style=\"fill:#000000; stroke:none; fill-opacity:1\" cx=\"1174.75\" cy=\"395.468\" r=\"18\"/>\n",
       "<circle clip-path=\"url(#clip8203)\" style=\"fill:#0000ff; stroke:none; fill-opacity:1\" cx=\"1174.75\" cy=\"395.468\" r=\"14\"/>\n",
       "<circle clip-path=\"url(#clip8203)\" style=\"fill:#000000; stroke:none; fill-opacity:1\" cx=\"1261.14\" cy=\"1006.64\" r=\"18\"/>\n",
       "<circle clip-path=\"url(#clip8203)\" style=\"fill:#ff0000; stroke:none; fill-opacity:1\" cx=\"1261.14\" cy=\"1006.64\" r=\"14\"/>\n",
       "<circle clip-path=\"url(#clip8203)\" style=\"fill:#000000; stroke:none; fill-opacity:1\" cx=\"1608.67\" cy=\"731.563\" r=\"18\"/>\n",
       "<circle clip-path=\"url(#clip8203)\" style=\"fill:#ff0000; stroke:none; fill-opacity:1\" cx=\"1608.67\" cy=\"731.563\" r=\"14\"/>\n",
       "<circle clip-path=\"url(#clip8203)\" style=\"fill:#000000; stroke:none; fill-opacity:1\" cx=\"1285.47\" cy=\"768.827\" r=\"18\"/>\n",
       "<circle clip-path=\"url(#clip8203)\" style=\"fill:#0000ff; stroke:none; fill-opacity:1\" cx=\"1285.47\" cy=\"768.827\" r=\"14\"/>\n",
       "<circle clip-path=\"url(#clip8203)\" style=\"fill:#000000; stroke:none; fill-opacity:1\" cx=\"1524.65\" cy=\"696.378\" r=\"18\"/>\n",
       "<circle clip-path=\"url(#clip8203)\" style=\"fill:#ff0000; stroke:none; fill-opacity:1\" cx=\"1524.65\" cy=\"696.378\" r=\"14\"/>\n",
       "<circle clip-path=\"url(#clip8203)\" style=\"fill:#000000; stroke:none; fill-opacity:1\" cx=\"1489.94\" cy=\"538.367\" r=\"18\"/>\n",
       "<circle clip-path=\"url(#clip8203)\" style=\"fill:#0000ff; stroke:none; fill-opacity:1\" cx=\"1489.94\" cy=\"538.367\" r=\"14\"/>\n",
       "<circle clip-path=\"url(#clip8203)\" style=\"fill:#000000; stroke:none; fill-opacity:1\" cx=\"1746.84\" cy=\"533.18\" r=\"18\"/>\n",
       "<circle clip-path=\"url(#clip8203)\" style=\"fill:#ff0000; stroke:none; fill-opacity:1\" cx=\"1746.84\" cy=\"533.18\" r=\"14\"/>\n",
       "<circle clip-path=\"url(#clip8203)\" style=\"fill:#000000; stroke:none; fill-opacity:1\" cx=\"1651.74\" cy=\"603.196\" r=\"18\"/>\n",
       "<circle clip-path=\"url(#clip8203)\" style=\"fill:#ff0000; stroke:none; fill-opacity:1\" cx=\"1651.74\" cy=\"603.196\" r=\"14\"/>\n",
       "<circle clip-path=\"url(#clip8203)\" style=\"fill:#000000; stroke:none; fill-opacity:1\" cx=\"210.829\" cy=\"690.476\" r=\"18\"/>\n",
       "<circle clip-path=\"url(#clip8203)\" style=\"fill:#0000ff; stroke:none; fill-opacity:1\" cx=\"210.829\" cy=\"690.476\" r=\"14\"/>\n",
       "<circle clip-path=\"url(#clip8203)\" style=\"fill:#000000; stroke:none; fill-opacity:1\" cx=\"1368.7\" cy=\"711.373\" r=\"18\"/>\n",
       "<circle clip-path=\"url(#clip8203)\" style=\"fill:#ff0000; stroke:none; fill-opacity:1\" cx=\"1368.7\" cy=\"711.373\" r=\"14\"/>\n",
       "<circle clip-path=\"url(#clip8203)\" style=\"fill:#000000; stroke:none; fill-opacity:1\" cx=\"1153.59\" cy=\"876.366\" r=\"18\"/>\n",
       "<circle clip-path=\"url(#clip8203)\" style=\"fill:#0000ff; stroke:none; fill-opacity:1\" cx=\"1153.59\" cy=\"876.366\" r=\"14\"/>\n",
       "<circle clip-path=\"url(#clip8203)\" style=\"fill:#000000; stroke:none; fill-opacity:1\" cx=\"1042.61\" cy=\"994.882\" r=\"18\"/>\n",
       "<circle clip-path=\"url(#clip8203)\" style=\"fill:#0000ff; stroke:none; fill-opacity:1\" cx=\"1042.61\" cy=\"994.882\" r=\"14\"/>\n",
       "<circle clip-path=\"url(#clip8203)\" style=\"fill:#000000; stroke:none; fill-opacity:1\" cx=\"2259.79\" cy=\"535.586\" r=\"18\"/>\n",
       "<circle clip-path=\"url(#clip8203)\" style=\"fill:#ff0000; stroke:none; fill-opacity:1\" cx=\"2259.79\" cy=\"535.586\" r=\"14\"/>\n",
       "<circle clip-path=\"url(#clip8203)\" style=\"fill:#000000; stroke:none; fill-opacity:1\" cx=\"1198.16\" cy=\"547.905\" r=\"18\"/>\n",
       "<circle clip-path=\"url(#clip8203)\" style=\"fill:#0000ff; stroke:none; fill-opacity:1\" cx=\"1198.16\" cy=\"547.905\" r=\"14\"/>\n",
       "<circle clip-path=\"url(#clip8203)\" style=\"fill:#000000; stroke:none; fill-opacity:1\" cx=\"1075.58\" cy=\"88.4582\" r=\"18\"/>\n",
       "<circle clip-path=\"url(#clip8203)\" style=\"fill:#0000ff; stroke:none; fill-opacity:1\" cx=\"1075.58\" cy=\"88.4582\" r=\"14\"/>\n",
       "<circle clip-path=\"url(#clip8203)\" style=\"fill:#000000; stroke:none; fill-opacity:1\" cx=\"924.869\" cy=\"392.214\" r=\"18\"/>\n",
       "<circle clip-path=\"url(#clip8203)\" style=\"fill:#0000ff; stroke:none; fill-opacity:1\" cx=\"924.869\" cy=\"392.214\" r=\"14\"/>\n",
       "<circle clip-path=\"url(#clip8203)\" style=\"fill:#000000; stroke:none; fill-opacity:1\" cx=\"2247.43\" cy=\"285.329\" r=\"18\"/>\n",
       "<circle clip-path=\"url(#clip8203)\" style=\"fill:#ff0000; stroke:none; fill-opacity:1\" cx=\"2247.43\" cy=\"285.329\" r=\"14\"/>\n",
       "<circle clip-path=\"url(#clip8203)\" style=\"fill:#000000; stroke:none; fill-opacity:1\" cx=\"1138.53\" cy=\"687.876\" r=\"18\"/>\n",
       "<circle clip-path=\"url(#clip8203)\" style=\"fill:#0000ff; stroke:none; fill-opacity:1\" cx=\"1138.53\" cy=\"687.876\" r=\"14\"/>\n",
       "<circle clip-path=\"url(#clip8203)\" style=\"fill:#000000; stroke:none; fill-opacity:1\" cx=\"1169.41\" cy=\"818.252\" r=\"18\"/>\n",
       "<circle clip-path=\"url(#clip8203)\" style=\"fill:#ff0000; stroke:none; fill-opacity:1\" cx=\"1169.41\" cy=\"818.252\" r=\"14\"/>\n",
       "<circle clip-path=\"url(#clip8203)\" style=\"fill:#000000; stroke:none; fill-opacity:1\" cx=\"907.862\" cy=\"462.13\" r=\"18\"/>\n",
       "<circle clip-path=\"url(#clip8203)\" style=\"fill:#0000ff; stroke:none; fill-opacity:1\" cx=\"907.862\" cy=\"462.13\" r=\"14\"/>\n",
       "<circle clip-path=\"url(#clip8203)\" style=\"fill:#000000; stroke:none; fill-opacity:1\" cx=\"1028.87\" cy=\"793.213\" r=\"18\"/>\n",
       "<circle clip-path=\"url(#clip8203)\" style=\"fill:#0000ff; stroke:none; fill-opacity:1\" cx=\"1028.87\" cy=\"793.213\" r=\"14\"/>\n",
       "<circle clip-path=\"url(#clip8203)\" style=\"fill:#000000; stroke:none; fill-opacity:1\" cx=\"1728.42\" cy=\"585.674\" r=\"18\"/>\n",
       "<circle clip-path=\"url(#clip8203)\" style=\"fill:#ff0000; stroke:none; fill-opacity:1\" cx=\"1728.42\" cy=\"585.674\" r=\"14\"/>\n",
       "<circle clip-path=\"url(#clip8203)\" style=\"fill:#000000; stroke:none; fill-opacity:1\" cx=\"1122.99\" cy=\"559.89\" r=\"18\"/>\n",
       "<circle clip-path=\"url(#clip8203)\" style=\"fill:#0000ff; stroke:none; fill-opacity:1\" cx=\"1122.99\" cy=\"559.89\" r=\"14\"/>\n",
       "<circle clip-path=\"url(#clip8203)\" style=\"fill:#000000; stroke:none; fill-opacity:1\" cx=\"1487.7\" cy=\"640.645\" r=\"18\"/>\n",
       "<circle clip-path=\"url(#clip8203)\" style=\"fill:#ff0000; stroke:none; fill-opacity:1\" cx=\"1487.7\" cy=\"640.645\" r=\"14\"/>\n",
       "<circle clip-path=\"url(#clip8203)\" style=\"fill:#000000; stroke:none; fill-opacity:1\" cx=\"1180.39\" cy=\"656.93\" r=\"18\"/>\n",
       "<circle clip-path=\"url(#clip8203)\" style=\"fill:#0000ff; stroke:none; fill-opacity:1\" cx=\"1180.39\" cy=\"656.93\" r=\"14\"/>\n",
       "<circle clip-path=\"url(#clip8203)\" style=\"fill:#000000; stroke:none; fill-opacity:1\" cx=\"1510.61\" cy=\"1131.48\" r=\"18\"/>\n",
       "<circle clip-path=\"url(#clip8203)\" style=\"fill:#ff0000; stroke:none; fill-opacity:1\" cx=\"1510.61\" cy=\"1131.48\" r=\"14\"/>\n",
       "<circle clip-path=\"url(#clip8203)\" style=\"fill:#000000; stroke:none; fill-opacity:1\" cx=\"767.901\" cy=\"882.046\" r=\"18\"/>\n",
       "<circle clip-path=\"url(#clip8203)\" style=\"fill:#0000ff; stroke:none; fill-opacity:1\" cx=\"767.901\" cy=\"882.046\" r=\"14\"/>\n",
       "<circle clip-path=\"url(#clip8203)\" style=\"fill:#000000; stroke:none; fill-opacity:1\" cx=\"1021.43\" cy=\"624.538\" r=\"18\"/>\n",
       "<circle clip-path=\"url(#clip8203)\" style=\"fill:#0000ff; stroke:none; fill-opacity:1\" cx=\"1021.43\" cy=\"624.538\" r=\"14\"/>\n",
       "<circle clip-path=\"url(#clip8203)\" style=\"fill:#000000; stroke:none; fill-opacity:1\" cx=\"2085.02\" cy=\"257.661\" r=\"18\"/>\n",
       "<circle clip-path=\"url(#clip8203)\" style=\"fill:#ff0000; stroke:none; fill-opacity:1\" cx=\"2085.02\" cy=\"257.661\" r=\"14\"/>\n",
       "<circle clip-path=\"url(#clip8203)\" style=\"fill:#000000; stroke:none; fill-opacity:1\" cx=\"914.423\" cy=\"526.482\" r=\"18\"/>\n",
       "<circle clip-path=\"url(#clip8203)\" style=\"fill:#0000ff; stroke:none; fill-opacity:1\" cx=\"914.423\" cy=\"526.482\" r=\"14\"/>\n",
       "<circle clip-path=\"url(#clip8203)\" style=\"fill:#000000; stroke:none; fill-opacity:1\" cx=\"1469.05\" cy=\"606.192\" r=\"18\"/>\n",
       "<circle clip-path=\"url(#clip8203)\" style=\"fill:#ff0000; stroke:none; fill-opacity:1\" cx=\"1469.05\" cy=\"606.192\" r=\"14\"/>\n",
       "<circle clip-path=\"url(#clip8203)\" style=\"fill:#000000; stroke:none; fill-opacity:1\" cx=\"815.074\" cy=\"504.224\" r=\"18\"/>\n",
       "<circle clip-path=\"url(#clip8203)\" style=\"fill:#0000ff; stroke:none; fill-opacity:1\" cx=\"815.074\" cy=\"504.224\" r=\"14\"/>\n",
       "<circle clip-path=\"url(#clip8203)\" style=\"fill:#000000; stroke:none; fill-opacity:1\" cx=\"1078.58\" cy=\"754.365\" r=\"18\"/>\n",
       "<circle clip-path=\"url(#clip8203)\" style=\"fill:#0000ff; stroke:none; fill-opacity:1\" cx=\"1078.58\" cy=\"754.365\" r=\"14\"/>\n",
       "<circle clip-path=\"url(#clip8203)\" style=\"fill:#000000; stroke:none; fill-opacity:1\" cx=\"1646.6\" cy=\"796.942\" r=\"18\"/>\n",
       "<circle clip-path=\"url(#clip8203)\" style=\"fill:#ff0000; stroke:none; fill-opacity:1\" cx=\"1646.6\" cy=\"796.942\" r=\"14\"/>\n",
       "<circle clip-path=\"url(#clip8203)\" style=\"fill:#000000; stroke:none; fill-opacity:1\" cx=\"1740.12\" cy=\"734.723\" r=\"18\"/>\n",
       "<circle clip-path=\"url(#clip8203)\" style=\"fill:#ff0000; stroke:none; fill-opacity:1\" cx=\"1740.12\" cy=\"734.723\" r=\"14\"/>\n",
       "<circle clip-path=\"url(#clip8203)\" style=\"fill:#000000; stroke:none; fill-opacity:1\" cx=\"1364.89\" cy=\"1052.51\" r=\"18\"/>\n",
       "<circle clip-path=\"url(#clip8203)\" style=\"fill:#ff0000; stroke:none; fill-opacity:1\" cx=\"1364.89\" cy=\"1052.51\" r=\"14\"/>\n",
       "<circle clip-path=\"url(#clip8203)\" style=\"fill:#000000; stroke:none; fill-opacity:1\" cx=\"918.981\" cy=\"812.584\" r=\"18\"/>\n",
       "<circle clip-path=\"url(#clip8203)\" style=\"fill:#0000ff; stroke:none; fill-opacity:1\" cx=\"918.981\" cy=\"812.584\" r=\"14\"/>\n",
       "<circle clip-path=\"url(#clip8203)\" style=\"fill:#000000; stroke:none; fill-opacity:1\" cx=\"1332.1\" cy=\"436.046\" r=\"18\"/>\n",
       "<circle clip-path=\"url(#clip8203)\" style=\"fill:#0000ff; stroke:none; fill-opacity:1\" cx=\"1332.1\" cy=\"436.046\" r=\"14\"/>\n",
       "<circle clip-path=\"url(#clip8203)\" style=\"fill:#000000; stroke:none; fill-opacity:1\" cx=\"1740.05\" cy=\"400.899\" r=\"18\"/>\n",
       "<circle clip-path=\"url(#clip8203)\" style=\"fill:#ff0000; stroke:none; fill-opacity:1\" cx=\"1740.05\" cy=\"400.899\" r=\"14\"/>\n",
       "<circle clip-path=\"url(#clip8203)\" style=\"fill:#000000; stroke:none; fill-opacity:1\" cx=\"1456.72\" cy=\"563.784\" r=\"18\"/>\n",
       "<circle clip-path=\"url(#clip8203)\" style=\"fill:#ff0000; stroke:none; fill-opacity:1\" cx=\"1456.72\" cy=\"563.784\" r=\"14\"/>\n",
       "<circle clip-path=\"url(#clip8203)\" style=\"fill:#000000; stroke:none; fill-opacity:1\" cx=\"1144.17\" cy=\"618.076\" r=\"18\"/>\n",
       "<circle clip-path=\"url(#clip8203)\" style=\"fill:#0000ff; stroke:none; fill-opacity:1\" cx=\"1144.17\" cy=\"618.076\" r=\"14\"/>\n",
       "<circle clip-path=\"url(#clip8203)\" style=\"fill:#000000; stroke:none; fill-opacity:1\" cx=\"1525.32\" cy=\"707.069\" r=\"18\"/>\n",
       "<circle clip-path=\"url(#clip8203)\" style=\"fill:#ff0000; stroke:none; fill-opacity:1\" cx=\"1525.32\" cy=\"707.069\" r=\"14\"/>\n",
       "<circle clip-path=\"url(#clip8203)\" style=\"fill:#000000; stroke:none; fill-opacity:1\" cx=\"1291.52\" cy=\"499.018\" r=\"18\"/>\n",
       "<circle clip-path=\"url(#clip8203)\" style=\"fill:#0000ff; stroke:none; fill-opacity:1\" cx=\"1291.52\" cy=\"499.018\" r=\"14\"/>\n",
       "<circle clip-path=\"url(#clip8203)\" style=\"fill:#000000; stroke:none; fill-opacity:1\" cx=\"1134.68\" cy=\"538.532\" r=\"18\"/>\n",
       "<circle clip-path=\"url(#clip8203)\" style=\"fill:#0000ff; stroke:none; fill-opacity:1\" cx=\"1134.68\" cy=\"538.532\" r=\"14\"/>\n",
       "<circle clip-path=\"url(#clip8203)\" style=\"fill:#000000; stroke:none; fill-opacity:1\" cx=\"912.822\" cy=\"662.298\" r=\"18\"/>\n",
       "<circle clip-path=\"url(#clip8203)\" style=\"fill:#0000ff; stroke:none; fill-opacity:1\" cx=\"912.822\" cy=\"662.298\" r=\"14\"/>\n",
       "<circle clip-path=\"url(#clip8203)\" style=\"fill:#000000; stroke:none; fill-opacity:1\" cx=\"934.293\" cy=\"989.997\" r=\"18\"/>\n",
       "<circle clip-path=\"url(#clip8203)\" style=\"fill:#0000ff; stroke:none; fill-opacity:1\" cx=\"934.293\" cy=\"989.997\" r=\"14\"/>\n",
       "</svg>\n"
      ]
     },
     "metadata": {},
     "output_type": "display_data"
    }
   ],
   "source": [
    "s = plot(leg=false)\n",
    "for i=1:N\n",
    "    if y_dict[i] == 0\n",
    "        scatter!([x_dict[i][1]],[x_dict[i][2]],color=\"blue\")\n",
    "    else\n",
    "        scatter!([x_dict[i][1]],[x_dict[i][2]],color=\"red\")\n",
    "    end\n",
    "end\n",
    "display(s)"
   ]
  },
  {
   "cell_type": "markdown",
   "metadata": {},
   "source": [
    "# Model Construction"
   ]
  },
  {
   "cell_type": "code",
   "execution_count": 5,
   "metadata": {},
   "outputs": [
    {
     "data": {
      "text/plain": [
       "fA (generic function with 1 method)"
      ]
     },
     "execution_count": 5,
     "metadata": {},
     "output_type": "execute_result"
    }
   ],
   "source": [
    "function fA(w,m0,s0)\n",
    "    return pdf(MvNormal(m0,s0),w)\n",
    "end"
   ]
  },
  {
   "cell_type": "code",
   "execution_count": 6,
   "metadata": {},
   "outputs": [
    {
     "data": {
      "text/plain": [
       "sigmoid (generic function with 1 method)"
      ]
     },
     "execution_count": 6,
     "metadata": {},
     "output_type": "execute_result"
    }
   ],
   "source": [
    "function sigmoid(a)\n",
    "    return 1.0/(1.0+exp(-1.0*a))\n",
    "end"
   ]
  },
  {
   "cell_type": "code",
   "execution_count": 7,
   "metadata": {},
   "outputs": [
    {
     "data": {
      "text/plain": [
       "fB (generic function with 1 method)"
      ]
     },
     "execution_count": 7,
     "metadata": {},
     "output_type": "execute_result"
    }
   ],
   "source": [
    "function fB(w,x,y)\n",
    "    return pdf(Bernoulli(sigmoid(transpose(w)*x)),y)\n",
    "end"
   ]
  },
  {
   "cell_type": "markdown",
   "metadata": {},
   "source": [
    "# Inference"
   ]
  },
  {
   "cell_type": "code",
   "execution_count": 8,
   "metadata": {},
   "outputs": [
    {
     "data": {
      "text/plain": [
       "free_energy_gaussian (generic function with 1 method)"
      ]
     },
     "execution_count": 8,
     "metadata": {},
     "output_type": "execute_result"
    }
   ],
   "source": [
    "free_energy_gaussian(m1,C1,m2,C2) = -log(2*pi) - log(sqrt(det(C2))) - (tr(inv(C2)*(C1+m1*transpose(m1))) - 2*(transpose(m1)*inv(C2)*m2) + transpose(m2)*inv(C2)*m2)/2"
   ]
  },
  {
   "cell_type": "code",
   "execution_count": 9,
   "metadata": {},
   "outputs": [
    {
     "data": {
      "text/plain": [
       "g (generic function with 1 method)"
      ]
     },
     "execution_count": 9,
     "metadata": {},
     "output_type": "execute_result"
    }
   ],
   "source": [
    "#Reparameterization function for Gaussian\n",
    "function g(eps,a,b)\n",
    "    return a + b*eps\n",
    "end"
   ]
  },
  {
   "cell_type": "code",
   "execution_count": 20,
   "metadata": {},
   "outputs": [
    {
     "data": {
      "text/plain": [
       "(Dict(0=>[0.0, 0.0]), Dict(0=>[4.47214 0.0; 0.0 4.47214]))"
      ]
     },
     "execution_count": 20,
     "metadata": {},
     "output_type": "execute_result"
    }
   ],
   "source": [
    "nu_a = 0.05 #step size for mean optimization(much more smaller than the first example to prevent the problem with exploding gradient)\n",
    "nu_b = 0.05 #step size for variance optimization\n",
    "a_t, b_t = [0.; 0.], Diagonal(ones(2,2)) * sqrt(20.) #initial mean and variance values\n",
    "free_energy_list = zeros(0)\n",
    "a_t_dict, b_t_dict = Dict(0 => a_t), Dict(0 => b_t)"
   ]
  },
  {
   "cell_type": "code",
   "execution_count": 21,
   "metadata": {},
   "outputs": [],
   "source": [
    "S = 10\n",
    "#Online learning\n",
    "for t=1:N\n",
    "    a_t_old = a_t\n",
    "    b_t_old = b_t\n",
    "    a_est, b_est = [0.; 0.], [0, 0]\n",
    "    for s=1:S\n",
    "        eps = rand(MvNormal([0.; 0.],Diagonal(ones(2,2)))) #N([0; 0], [1 0;0 1])\n",
    "        m_sample = g(eps,a_t_old,b_t_old)\n",
    "        fA_m(m) = fA(m, a_t, b_t)\n",
    "        log_fA_m(m) = log(fA_m(m))\n",
    "        message_1 = ForwardDiff.gradient(log_fA_m,m_sample)\n",
    "        fB_m(m) = fB(m, x_dict[t], y_dict[t])\n",
    "        log_fB_m(m) = log(fB_m(m))\n",
    "        message_2 = ForwardDiff.gradient(log_fB_m,m_sample)\n",
    "        un_norm_log_marg = message_1 + message_2\n",
    "        g_a(a) = g(eps,a,b_t)\n",
    "        grad_a = un_norm_log_marg .* [ForwardDiff.jacobian(g_a,a_t)[1,1]; ForwardDiff.jacobian(g_a,a_t)[2,2]]\n",
    "        a_est = a_est + grad_a\n",
    "        g_b(b) = g(eps,a_t,b)\n",
    "        grad_b = un_norm_log_marg .* [ForwardDiff.jacobian(g_b,b_t)[1,1]; ForwardDiff.jacobian(g_b,b_t)[2,4]] + [1.0/b_t[1,1]; 1.0/b_t[2,2]]\n",
    "        b_est = b_est + grad_b\n",
    "    end\n",
    "    a_t = a_t + (nu_a/S).*a_est\n",
    "    b_t = b_t + (nu_b/S).*Diagonal(b_est)\n",
    "    #free_energy = free_energy_gaussian(a_t,b_t,a_t,b_t) - free_energy_gaussian(a_t,b_t,a_t_old,b_t_old) - log(fB(a_t, x_dict[t], y_dict[t]))\n",
    "    free_energy = free_energy_gaussian(a_t,b_t,a_t,b_t) - free_energy_gaussian(a_t,b_t,[0.; 0.], Diagonal(ones(2,2)) * sqrt(20.))\n",
    "    for k=1:N\n",
    "        free_energy = free_energy - log(fB(a_t, x_dict[k], y_dict[k]))\n",
    "    end\n",
    "    append!(free_energy_list, free_energy)\n",
    "    get!(a_t_dict, t, a_t)\n",
    "    get!(b_t_dict, t, b_t)\n",
    "end"
   ]
  },
  {
   "cell_type": "code",
   "execution_count": 22,
   "metadata": {},
   "outputs": [
    {
     "name": "stdout",
     "output_type": "stream",
     "text": [
      "[1.59612, -0.753485]\n",
      "[0.80716 0.0; 0.0 0.930132]\n"
     ]
    }
   ],
   "source": [
    "println(a_t)\n",
    "println(b_t)"
   ]
  },
  {
   "cell_type": "code",
   "execution_count": 23,
   "metadata": {},
   "outputs": [
    {
     "data": {
      "image/svg+xml": [
       "<?xml version=\"1.0\" encoding=\"utf-8\"?>\n",
       "<svg xmlns=\"http://www.w3.org/2000/svg\" xmlns:xlink=\"http://www.w3.org/1999/xlink\" width=\"600\" height=\"400\" viewBox=\"0 0 2400 1600\">\n",
       "<defs>\n",
       "  <clipPath id=\"clip8600\">\n",
       "    <rect x=\"0\" y=\"0\" width=\"2000\" height=\"2000\"/>\n",
       "  </clipPath>\n",
       "</defs>\n",
       "<defs>\n",
       "  <clipPath id=\"clip8601\">\n",
       "    <rect x=\"0\" y=\"0\" width=\"2400\" height=\"1600\"/>\n",
       "  </clipPath>\n",
       "</defs>\n",
       "<polygon clip-path=\"url(#clip8601)\" points=\"\n",
       "0,1600 2400,1600 2400,0 0,0 \n",
       "  \" fill=\"#ffffff\" fill-rule=\"evenodd\" fill-opacity=\"1\"/>\n",
       "<defs>\n",
       "  <clipPath id=\"clip8602\">\n",
       "    <rect x=\"480\" y=\"0\" width=\"1681\" height=\"1600\"/>\n",
       "  </clipPath>\n",
       "</defs>\n",
       "<polygon clip-path=\"url(#clip8601)\" points=\"\n",
       "211.005,1440.48 2321.26,1440.48 2321.26,47.2441 211.005,47.2441 \n",
       "  \" fill=\"#ffffff\" fill-rule=\"evenodd\" fill-opacity=\"1\"/>\n",
       "<defs>\n",
       "  <clipPath id=\"clip8603\">\n",
       "    <rect x=\"211\" y=\"47\" width=\"2111\" height=\"1394\"/>\n",
       "  </clipPath>\n",
       "</defs>\n",
       "<polyline clip-path=\"url(#clip8603)\" style=\"stroke:#000000; stroke-width:2; stroke-opacity:0.1; fill:none\" points=\"\n",
       "  250.62,1440.48 250.62,47.2441 \n",
       "  \"/>\n",
       "<polyline clip-path=\"url(#clip8603)\" style=\"stroke:#000000; stroke-width:2; stroke-opacity:0.1; fill:none\" points=\"\n",
       "  753.349,1440.48 753.349,47.2441 \n",
       "  \"/>\n",
       "<polyline clip-path=\"url(#clip8603)\" style=\"stroke:#000000; stroke-width:2; stroke-opacity:0.1; fill:none\" points=\"\n",
       "  1256.08,1440.48 1256.08,47.2441 \n",
       "  \"/>\n",
       "<polyline clip-path=\"url(#clip8603)\" style=\"stroke:#000000; stroke-width:2; stroke-opacity:0.1; fill:none\" points=\"\n",
       "  1758.81,1440.48 1758.81,47.2441 \n",
       "  \"/>\n",
       "<polyline clip-path=\"url(#clip8603)\" style=\"stroke:#000000; stroke-width:2; stroke-opacity:0.1; fill:none\" points=\"\n",
       "  2261.54,1440.48 2261.54,47.2441 \n",
       "  \"/>\n",
       "<polyline clip-path=\"url(#clip8603)\" style=\"stroke:#000000; stroke-width:2; stroke-opacity:0.1; fill:none\" points=\"\n",
       "  211.005,1347.73 2321.26,1347.73 \n",
       "  \"/>\n",
       "<polyline clip-path=\"url(#clip8603)\" style=\"stroke:#000000; stroke-width:2; stroke-opacity:0.1; fill:none\" points=\"\n",
       "  211.005,1019.74 2321.26,1019.74 \n",
       "  \"/>\n",
       "<polyline clip-path=\"url(#clip8603)\" style=\"stroke:#000000; stroke-width:2; stroke-opacity:0.1; fill:none\" points=\"\n",
       "  211.005,691.742 2321.26,691.742 \n",
       "  \"/>\n",
       "<polyline clip-path=\"url(#clip8603)\" style=\"stroke:#000000; stroke-width:2; stroke-opacity:0.1; fill:none\" points=\"\n",
       "  211.005,363.745 2321.26,363.745 \n",
       "  \"/>\n",
       "<polyline clip-path=\"url(#clip8601)\" style=\"stroke:#000000; stroke-width:4; stroke-opacity:1; fill:none\" points=\"\n",
       "  211.005,1440.48 2321.26,1440.48 \n",
       "  \"/>\n",
       "<polyline clip-path=\"url(#clip8601)\" style=\"stroke:#000000; stroke-width:4; stroke-opacity:1; fill:none\" points=\"\n",
       "  211.005,1440.48 211.005,47.2441 \n",
       "  \"/>\n",
       "<polyline clip-path=\"url(#clip8601)\" style=\"stroke:#000000; stroke-width:4; stroke-opacity:1; fill:none\" points=\"\n",
       "  250.62,1440.48 250.62,1419.58 \n",
       "  \"/>\n",
       "<polyline clip-path=\"url(#clip8601)\" style=\"stroke:#000000; stroke-width:4; stroke-opacity:1; fill:none\" points=\"\n",
       "  753.349,1440.48 753.349,1419.58 \n",
       "  \"/>\n",
       "<polyline clip-path=\"url(#clip8601)\" style=\"stroke:#000000; stroke-width:4; stroke-opacity:1; fill:none\" points=\"\n",
       "  1256.08,1440.48 1256.08,1419.58 \n",
       "  \"/>\n",
       "<polyline clip-path=\"url(#clip8601)\" style=\"stroke:#000000; stroke-width:4; stroke-opacity:1; fill:none\" points=\"\n",
       "  1758.81,1440.48 1758.81,1419.58 \n",
       "  \"/>\n",
       "<polyline clip-path=\"url(#clip8601)\" style=\"stroke:#000000; stroke-width:4; stroke-opacity:1; fill:none\" points=\"\n",
       "  2261.54,1440.48 2261.54,1419.58 \n",
       "  \"/>\n",
       "<polyline clip-path=\"url(#clip8601)\" style=\"stroke:#000000; stroke-width:4; stroke-opacity:1; fill:none\" points=\"\n",
       "  211.005,1347.73 242.659,1347.73 \n",
       "  \"/>\n",
       "<polyline clip-path=\"url(#clip8601)\" style=\"stroke:#000000; stroke-width:4; stroke-opacity:1; fill:none\" points=\"\n",
       "  211.005,1019.74 242.659,1019.74 \n",
       "  \"/>\n",
       "<polyline clip-path=\"url(#clip8601)\" style=\"stroke:#000000; stroke-width:4; stroke-opacity:1; fill:none\" points=\"\n",
       "  211.005,691.742 242.659,691.742 \n",
       "  \"/>\n",
       "<polyline clip-path=\"url(#clip8601)\" style=\"stroke:#000000; stroke-width:4; stroke-opacity:1; fill:none\" points=\"\n",
       "  211.005,363.745 242.659,363.745 \n",
       "  \"/>\n",
       "<g clip-path=\"url(#clip8601)\">\n",
       "<text style=\"fill:#000000; fill-opacity:1; font-family:Arial,Helvetica Neue,Helvetica,sans-serif; font-size:48px; text-anchor:middle;\" transform=\"rotate(0, 250.62, 1494.48)\" x=\"250.62\" y=\"1494.48\">0</text>\n",
       "</g>\n",
       "<g clip-path=\"url(#clip8601)\">\n",
       "<text style=\"fill:#000000; fill-opacity:1; font-family:Arial,Helvetica Neue,Helvetica,sans-serif; font-size:48px; text-anchor:middle;\" transform=\"rotate(0, 753.349, 1494.48)\" x=\"753.349\" y=\"1494.48\">25</text>\n",
       "</g>\n",
       "<g clip-path=\"url(#clip8601)\">\n",
       "<text style=\"fill:#000000; fill-opacity:1; font-family:Arial,Helvetica Neue,Helvetica,sans-serif; font-size:48px; text-anchor:middle;\" transform=\"rotate(0, 1256.08, 1494.48)\" x=\"1256.08\" y=\"1494.48\">50</text>\n",
       "</g>\n",
       "<g clip-path=\"url(#clip8601)\">\n",
       "<text style=\"fill:#000000; fill-opacity:1; font-family:Arial,Helvetica Neue,Helvetica,sans-serif; font-size:48px; text-anchor:middle;\" transform=\"rotate(0, 1758.81, 1494.48)\" x=\"1758.81\" y=\"1494.48\">75</text>\n",
       "</g>\n",
       "<g clip-path=\"url(#clip8601)\">\n",
       "<text style=\"fill:#000000; fill-opacity:1; font-family:Arial,Helvetica Neue,Helvetica,sans-serif; font-size:48px; text-anchor:middle;\" transform=\"rotate(0, 2261.54, 1494.48)\" x=\"2261.54\" y=\"1494.48\">100</text>\n",
       "</g>\n",
       "<g clip-path=\"url(#clip8601)\">\n",
       "<text style=\"fill:#000000; fill-opacity:1; font-family:Arial,Helvetica Neue,Helvetica,sans-serif; font-size:48px; text-anchor:end;\" transform=\"rotate(0, 187.005, 1365.23)\" x=\"187.005\" y=\"1365.23\">30</text>\n",
       "</g>\n",
       "<g clip-path=\"url(#clip8601)\">\n",
       "<text style=\"fill:#000000; fill-opacity:1; font-family:Arial,Helvetica Neue,Helvetica,sans-serif; font-size:48px; text-anchor:end;\" transform=\"rotate(0, 187.005, 1037.24)\" x=\"187.005\" y=\"1037.24\">40</text>\n",
       "</g>\n",
       "<g clip-path=\"url(#clip8601)\">\n",
       "<text style=\"fill:#000000; fill-opacity:1; font-family:Arial,Helvetica Neue,Helvetica,sans-serif; font-size:48px; text-anchor:end;\" transform=\"rotate(0, 187.005, 709.242)\" x=\"187.005\" y=\"709.242\">50</text>\n",
       "</g>\n",
       "<g clip-path=\"url(#clip8601)\">\n",
       "<text style=\"fill:#000000; fill-opacity:1; font-family:Arial,Helvetica Neue,Helvetica,sans-serif; font-size:48px; text-anchor:end;\" transform=\"rotate(0, 187.005, 381.245)\" x=\"187.005\" y=\"381.245\">60</text>\n",
       "</g>\n",
       "<g clip-path=\"url(#clip8601)\">\n",
       "<text style=\"fill:#000000; fill-opacity:1; font-family:Arial,Helvetica Neue,Helvetica,sans-serif; font-size:66px; text-anchor:middle;\" transform=\"rotate(0, 1266.13, 1590.4)\" x=\"1266.13\" y=\"1590.4\">Iteration</text>\n",
       "</g>\n",
       "<g clip-path=\"url(#clip8601)\">\n",
       "<text style=\"fill:#000000; fill-opacity:1; font-family:Arial,Helvetica Neue,Helvetica,sans-serif; font-size:66px; text-anchor:middle;\" transform=\"rotate(-90, 57.6, 743.863)\" x=\"57.6\" y=\"743.863\">Free energy</text>\n",
       "</g>\n",
       "<polyline clip-path=\"url(#clip8603)\" style=\"stroke:#0000ff; stroke-width:4; stroke-opacity:1; fill:none\" points=\"\n",
       "  270.729,118.545 290.838,125.606 310.948,200.25 331.057,148.134 351.166,146.827 371.275,159.611 391.384,189.846 411.493,196.615 431.602,86.6754 451.712,166.239 \n",
       "  471.821,163.188 491.93,208.876 512.039,186.287 532.148,166.476 552.257,305.724 572.367,338.341 592.476,292.854 612.585,314.059 632.694,495.867 652.803,459.749 \n",
       "  672.912,460.286 693.021,505.328 713.131,489.732 733.24,563.072 753.349,629.581 773.458,756.437 793.567,793.726 813.676,832.339 833.786,826.233 853.895,848.906 \n",
       "  874.004,846.195 894.113,878.443 914.222,904.555 934.331,920.564 954.44,953.03 974.55,962.837 994.659,983.052 1014.77,1002.95 1034.88,1031.6 1054.99,1045.46 \n",
       "  1075.1,1056.4 1095.2,1061.08 1115.31,1069.23 1135.42,1046.88 1155.53,1052.83 1175.64,1100.15 1195.75,1094.95 1215.86,1102.74 1235.97,1141.48 1256.08,1145.55 \n",
       "  1276.19,1156.32 1296.3,1173.27 1316.41,1188.91 1336.51,1172.62 1356.62,1179.96 1376.73,1185.57 1396.84,1196.08 1416.95,1197.5 1437.06,1210.35 1457.17,1200.94 \n",
       "  1477.28,1188.42 1497.39,1201.32 1517.5,1253.05 1537.61,1246.66 1557.72,1246.79 1577.82,1245.39 1597.93,1249.59 1618.04,1246.57 1638.15,1267.31 1658.26,1260.82 \n",
       "  1678.37,1256.51 1698.48,1261.04 1718.59,1265.51 1738.7,1280.34 1758.81,1281.61 1778.92,1288.14 1799.03,1293.26 1819.13,1291.46 1839.24,1290.5 1859.35,1322.9 \n",
       "  1879.46,1325.16 1899.57,1325.8 1919.68,1333.19 1939.79,1340.77 1959.9,1337.49 1980.01,1342.6 2000.12,1338.59 2020.23,1343.28 2040.33,1342.35 2060.44,1355.39 \n",
       "  2080.55,1351.17 2100.66,1361.7 2120.77,1370.55 2140.88,1369.38 2160.99,1369.74 2181.1,1377.36 2201.21,1393.84 2221.32,1399.1 2241.43,1395.36 2261.54,1401.05 \n",
       "  \n",
       "  \"/>\n",
       "<polygon clip-path=\"url(#clip8601)\" points=\"\n",
       "1958.43,251.724 2249.26,251.724 2249.26,130.764 1958.43,130.764 \n",
       "  \" fill=\"#ffffff\" fill-rule=\"evenodd\" fill-opacity=\"1\"/>\n",
       "<polyline clip-path=\"url(#clip8601)\" style=\"stroke:#000000; stroke-width:4; stroke-opacity:1; fill:none\" points=\"\n",
       "  1958.43,251.724 2249.26,251.724 2249.26,130.764 1958.43,130.764 1958.43,251.724 \n",
       "  \"/>\n",
       "<polyline clip-path=\"url(#clip8601)\" style=\"stroke:#0000ff; stroke-width:4; stroke-opacity:1; fill:none\" points=\"\n",
       "  1982.43,191.244 2126.43,191.244 \n",
       "  \"/>\n",
       "<g clip-path=\"url(#clip8601)\">\n",
       "<text style=\"fill:#000000; fill-opacity:1; font-family:Arial,Helvetica Neue,Helvetica,sans-serif; font-size:48px; text-anchor:start;\" transform=\"rotate(0, 2150.43, 208.744)\" x=\"2150.43\" y=\"208.744\">y1</text>\n",
       "</g>\n",
       "</svg>\n"
      ]
     },
     "execution_count": 23,
     "metadata": {},
     "output_type": "execute_result"
    }
   ],
   "source": [
    "plot(collect(1:N),free_energy_list, color=\"blue\")\n",
    "xlabel!(\"Iteration\")\n",
    "ylabel!(\"Free energy\")"
   ]
  },
  {
   "cell_type": "code",
   "execution_count": 24,
   "metadata": {},
   "outputs": [],
   "source": [
    "y_predict = Dict()\n",
    "for i=1:N\n",
    "    z_i = transpose(a_t)*x_dict[i]\n",
    "    p_i = 1.0/(1.0 + exp(-1*z_i))\n",
    "    y_i = round(p_i)\n",
    "    get!(y_predict, i, y_i)\n",
    "end"
   ]
  },
  {
   "cell_type": "code",
   "execution_count": 25,
   "metadata": {},
   "outputs": [
    {
     "data": {
      "text/plain": [
       "0.91"
      ]
     },
     "execution_count": 25,
     "metadata": {},
     "output_type": "execute_result"
    }
   ],
   "source": [
    "correct_predict = 0.0\n",
    "for i=1:N\n",
    "    if y_predict[i] == y_dict[i]\n",
    "        correct_predict += 1\n",
    "    end\n",
    "end\n",
    "accuracy = correct_predict/N"
   ]
  },
  {
   "cell_type": "code",
   "execution_count": 26,
   "metadata": {},
   "outputs": [
    {
     "name": "stderr",
     "output_type": "stream",
     "text": [
      "┌ Info: Saved animation to \n",
      "│   fn = /Users/sakbayrak/Codes/semih/RGMP/slope_change.gif\n",
      "└ @ Plots /Users/sakbayrak/.julia/packages/Plots/UQI78/src/animation.jl:90\n"
     ]
    },
    {
     "data": {
      "text/html": [
       "<img src=\"slope_change.gif\" />"
      ],
      "text/plain": [
       "Plots.AnimatedGif(\"/Users/sakbayrak/Codes/semih/RGMP/slope_change.gif\")"
      ]
     },
     "execution_count": 26,
     "metadata": {},
     "output_type": "execute_result"
    }
   ],
   "source": [
    "x2_array = collect(-4.:0.01:4.)\n",
    "anim = @animate for i=1:N\n",
    "    s = plot()\n",
    "    for j=1:N\n",
    "        z_j = transpose(a_t_dict[i])*x_dict[j]\n",
    "        p_j = 1.0/(1.0 + exp(-1*z_j))\n",
    "        y_j = round(p_j)\n",
    "        if y_j == 0\n",
    "            scatter!([x_dict[j][1]],[x_dict[j][2]],color=\"blue\",leg=false)\n",
    "        else\n",
    "            scatter!([x_dict[j][1]],[x_dict[j][2]],color=\"red\",leg=false)\n",
    "        end\n",
    "    end\n",
    "    x1_array = -1*a_t_dict[i][2]*x2_array./a_t_dict[i][1];\n",
    "    x1_array_uncertain_1 = -1*(a_t_dict[i][2]+b_t_dict[i][2])*x2_array./(a_t_dict[i][1]-b_t_dict[i][1]);\n",
    "    x1_array_uncertain_2 = -1*(a_t_dict[i][2]-b_t_dict[i][2])*x2_array./(a_t_dict[i][1]+b_t_dict[i][1]);\n",
    "    plot!(x1_array,x2_array,color=\"green\", lw=3, xlims=(-6,6), ylims=(-3,3), title=\"i=$(i)\", label=\"Decision boundry\")\n",
    "    plot!(x1_array_uncertain_1,x2_array,color=\"black\", lw=3, linestyle = :dash)\n",
    "    plot!(x1_array_uncertain_2,x2_array,color=\"black\", lw=3, linestyle = :dash)\n",
    "end\n",
    "gif(anim, \"slope_change.gif\", fps = 5)\n"
   ]
  },
  {
   "cell_type": "code",
   "execution_count": 29,
   "metadata": {},
   "outputs": [
    {
     "name": "stderr",
     "output_type": "stream",
     "text": [
      "┌ Info: Saved animation to \n",
      "│   fn = /Users/sakbayrak/Codes/semih/RGMP/change_variational_mean.gif\n",
      "└ @ Plots /Users/sakbayrak/.julia/packages/Plots/UQI78/src/animation.jl:90\n"
     ]
    },
    {
     "data": {
      "text/html": [
       "<img src=\"change_variational_mean.gif\" />"
      ],
      "text/plain": [
       "Plots.AnimatedGif(\"/Users/sakbayrak/Codes/semih/RGMP/change_variational_mean.gif\")"
      ]
     },
     "execution_count": 29,
     "metadata": {},
     "output_type": "execute_result"
    }
   ],
   "source": [
    "anim = @animate for i = 0:N\n",
    "    s = plot(leg=false)\n",
    "    p(x, y) = pdf(MvNormal(a_t_dict[i],b_t_dict[i]),[x; y])\n",
    "    contour!(collect(a_t_dict[i][1]-5:0.2:a_t_dict[i][1]+5),collect(a_t_dict[i][2]-5:0.2:a_t_dict[i][2]+5),p,nlevels=3)\n",
    "    scatter!([a_t_dict[i][1]],[a_t_dict[i][2]], xlims=(-4,4), ylims=(-4,4))\n",
    "    title!(\"Change of variational mean and variance for weights\")\n",
    "    xlabel!(\"w1\")\n",
    "    ylabel!(\"w2\")\n",
    "end\n",
    "gif(anim, \"change_variational_mean.gif\", fps = 5)"
   ]
  },
  {
   "cell_type": "code",
   "execution_count": 30,
   "metadata": {},
   "outputs": [
    {
     "name": "stderr",
     "output_type": "stream",
     "text": [
      "┌ Info: Saved animation to \n",
      "│   fn = /Users/sakbayrak/Codes/semih/RGMP/change_variational_sample.gif\n",
      "└ @ Plots /Users/sakbayrak/.julia/packages/Plots/UQI78/src/animation.jl:90\n"
     ]
    },
    {
     "data": {
      "text/html": [
       "<img src=\"change_variational_sample.gif\" />"
      ],
      "text/plain": [
       "Plots.AnimatedGif(\"/Users/sakbayrak/Codes/semih/RGMP/change_variational_sample.gif\")"
      ]
     },
     "execution_count": 30,
     "metadata": {},
     "output_type": "execute_result"
    }
   ],
   "source": [
    "anim = @animate for i = 0:N\n",
    "    s = plot(leg=false)\n",
    "    histogram2d(rand(Normal(a_t_dict[i][1],b_t_dict[i][1]),10000),rand(Normal(a_t_dict[i][2],b_t_dict[i][4]),10000),nbins=100,xlims=(-10,10), ylims=(-10,10))\n",
    "    title!(\"Change of variational mean and variance for weights\")\n",
    "    xlabel!(\"w1\")\n",
    "    ylabel!(\"w2\")\n",
    "end\n",
    "gif(anim, \"change_variational_sample.gif\", fps = 5)"
   ]
  },
  {
   "cell_type": "code",
   "execution_count": null,
   "metadata": {},
   "outputs": [],
   "source": []
  }
 ],
 "metadata": {
  "kernelspec": {
   "display_name": "Julia 1.0.2",
   "language": "julia",
   "name": "julia-1.0"
  },
  "language_info": {
   "file_extension": ".jl",
   "mimetype": "application/julia",
   "name": "julia",
   "version": "1.0.2"
  }
 },
 "nbformat": 4,
 "nbformat_minor": 2
}
